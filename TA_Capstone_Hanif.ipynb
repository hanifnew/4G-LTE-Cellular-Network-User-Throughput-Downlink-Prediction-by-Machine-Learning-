{
  "nbformat": 4,
  "nbformat_minor": 0,
  "metadata": {
    "colab": {
      "name": "TA_Capstone_Hanif.ipynb",
      "provenance": [],
      "toc_visible": true,
      "include_colab_link": true
    },
    "kernelspec": {
      "name": "python3",
      "display_name": "Python 3"
    },
    "language_info": {
      "name": "python"
    }
  },
  "cells": [
    {
      "cell_type": "markdown",
      "metadata": {
        "id": "view-in-github",
        "colab_type": "text"
      },
      "source": [
        "<a href=\"https://colab.research.google.com/github/hanifnew/4G-LTE-Cellular-Network-User-Throughput-Downlink-Prediction-by-Machine-Learning-/blob/main/TA_Capstone_Hanif.ipynb\" target=\"_parent\"><img src=\"https://colab.research.google.com/assets/colab-badge.svg\" alt=\"Open In Colab\"/></a>"
      ]
    },
    {
      "cell_type": "markdown",
      "source": [
        "# Capstone Project - 4G LTE Cellular Network User Throughput-Downlink Prediction by Machine Learning 🎓\n",
        "\n",
        "##### Muhammad Hanif Naufal Eka Wiratama - 18117027"
      ],
      "metadata": {
        "id": "m0K_YwvPjgv_"
      }
    },
    {
      "cell_type": "markdown",
      "source": [
        "# Business Understanding"
      ],
      "metadata": {
        "id": "DjsBWwn9Zln0"
      }
    },
    {
      "cell_type": "markdown",
      "source": [
        "### Background\n",
        "*Record any known information about the business situation at the start of the project. Is there already a solution in place? Describe any solutions in place and why they are seeking a new solution. What should the new solution improve?*\n",
        "\n",
        "1. Over the years, there has been a significant increase in mobile network traffic. LTE will remain the dominant cellular access technology by number of subscriptions for now. During the 3rd quarter of 2020, LTE users increased by approximately 70 million and reached a total of approximately 4.5 billion users, or equal to 57 percent of all cellular subscriptions.\n",
        "\n",
        "    (Ericsson AB, “Ericsson Mobility Report,” Ericsson AB, 2020.)\n",
        "\n",
        "2. Advances in wireless communication technology have brought broadband speeds directly to smartphones, allowing mobile users to access high-speed Internet services such as online gaming and video streaming. This significantly increases the load on the cellular network, and causes throughput to fluctuate significantly in network traffic.\n",
        "\n",
        "    (A. Samba, Y. Busnel, A. Blanc, P. Dooze, and G. Simon, “Instantaneous throughput prediction in cellular networks: Which information is needed?” in 2017 IFIP/IEEE Symposium on Integrated Network and Service Management (IM). IEEE, pp. 624–627.)\n",
        "\n",
        "3. Based on previous research on network utilization, it is stated that accurate prediction of user throughput can significantly increase bandwidth utilization.\n",
        "\n",
        "    (X. K. Zou, J. Erman, V. Gopalakrishnan, E. Halepovic, R. Jana, X. Jin, J.Rexford, and R. K. Sinha, “Can accurate predictions improve video streaming in cellular networks?” in Proceedings of the 16th International Workshop on Mobile Computing Systems and Applications, (2015), pp. 57–62.)\n",
        "\n",
        "4. ML has been applied successfully in the area of mobile networks, including assisted mobile network planning techniques for analyzing big data in mobile network\n",
        "    (Y. Liu and J. Y. B. Lee, \"An Empirical Study of Throughput Prediction in Mobile Data Networks,\" 2015 IEEE Global Communications Conference (GLOBECOM), 2015, pp. 1-6, doi: 10.1109/GLOCOM.2015.7417858.)"
      ],
      "metadata": {
        "id": "EP-Fyxj1iL3k"
      }
    },
    {
      "cell_type": "markdown",
      "source": [
        "### Our Method\n",
        "\n",
        "*   to predict the future downlink throughput of the UE\n",
        "*   to visualize the throughput prediction result \n",
        "*   to compare some of machine learning predictor performance based on throughput prediction\n",
        "*   to guide telco expert how to predict the throughput based on their own-dataset"
      ],
      "metadata": {
        "id": "vduWkUdKi1GU"
      }
    },
    {
      "cell_type": "markdown",
      "source": [
        "### Problem Statements dan Goals\n",
        "\n",
        "Based on some of the information described before, we will develop a web app-based throughput prediction dashboard to answer the following problems. From a set of features that will exist, \n",
        "\n",
        "* Which features can predict the future downlink throughput of the user equipment? \n",
        "* Which features can measure the performance of 4G LTE network \n",
        "* Which features can visualize the throughput prediction result?\n",
        "* Which features can compare some predictor method’s performance?\n",
        "* Which features can guide telco experts how to predict the throughput based on their own-dataset?\n",
        " \n",
        "To answer these questions, predictive modeling will be made with the following goals or objectives:\n",
        "\n",
        "* Find out the features that can predict the future downlink throughput of the user equipment\n",
        "* Find out which features are most correlated with the 4G LTE network performance\n",
        "* Find out the features that can visualize the throughput prediction result\n",
        "* Find out the features that can compare some predictor method’s performance\n",
        "* Find out the features that can guide telco experts how to predict the throughput based on their own-dataset\n",
        "* Create a machine learning model that can predict the future downlink throughput of the user equipment as accurately as possible based on existing features.\n",
        " \n"
      ],
      "metadata": {
        "id": "9ZbNgTWijGdK"
      }
    },
    {
      "cell_type": "markdown",
      "source": [
        "### Methodology\n",
        "\n",
        "Network performance prediction is the goal to be achieved. As we know, there are many parameters that are used to see the performance of the network, and all of them are continuous variables. In predictive analytics, making a continuous variable prediction means that you are solving a regression problem. Therefore, the methodology in this project is: to build a regression model with the network parameter as the target.\n",
        " \n"
      ],
      "metadata": {
        "id": "pZVIXD8IjKqM"
      }
    },
    {
      "cell_type": "markdown",
      "source": [
        "### Metric\n",
        "\n",
        "Metrics are used to evaluate how well your model predicts network parameters. For the case of regression, some metrics that are usually used are Mean Squared Error (MSE) or Root Mean Square Error (RMSE). In general, this metric measures how far the predicted result is from the actual value. We'll go into more detail about these metrics in the Evaluation module.\n",
        "\n",
        "The model development will use several machine learning algorithms, namely Support Vector Regression (SVR),  K-Nearest Neighbor (KNN), Ridge Regression, Random Forest, and Boosting Algorithm. From these five models, one model will be chosen which has the smallest predictive error value. In other words, we will make the model as accurate as possible, that is, the model with the smallest possible error value.\n",
        "\n",
        "Creating predictive models with machine learning requires data. The good news is, we have the data that we need to build predictive models from the previous research. The dataset that we will use in this practice is the 4G LTE User Equipment Measurements along Kingston Transit 502 Bus Route dataset. The explanation of the dataset used will be explained in the next section.\n"
      ],
      "metadata": {
        "id": "Bk6xm3ufk0Dq"
      }
    },
    {
      "cell_type": "markdown",
      "source": [
        "# Data Understanding"
      ],
      "metadata": {
        "id": "kOdom7SRkkRc"
      }
    },
    {
      "cell_type": "markdown",
      "source": [
        "### Data Loading "
      ],
      "metadata": {
        "id": "w6AnRW1ekbxM"
      }
    },
    {
      "cell_type": "code",
      "source": [
        "import numpy as np\n",
        "import matplotlib.pyplot as plt\n",
        "import pandas as pd\n",
        "%matplotlib inline\n",
        "import seaborn as sns"
      ],
      "metadata": {
        "id": "17hIEtAWo3QU"
      },
      "execution_count": null,
      "outputs": []
    },
    {
      "cell_type": "code",
      "source": [
        "from google.colab import drive\n",
        "drive.mount('/content/drive',force_remount=True)"
      ],
      "metadata": {
        "colab": {
          "base_uri": "https://localhost:8080/"
        },
        "id": "JU8SlJtgo6Mg",
        "outputId": "1c33bd68-efd0-43d0-813e-7efd408609a0"
      },
      "execution_count": null,
      "outputs": [
        {
          "output_type": "stream",
          "name": "stdout",
          "text": [
            "Mounted at /content/drive\n"
          ]
        }
      ]
    },
    {
      "cell_type": "code",
      "source": [
        "data_trip_9am_1 = pd.read_csv('/content/drive/My Drive/Tugas Akhir - 4G LTE Network Performance Analysis/Dataset Kingston/S9/S9-9am-20191205.csv', encoding='utf-7')\n",
        "data_trip_9am_2 = pd.read_csv('/content/drive/My Drive/Tugas Akhir - 4G LTE Network Performance Analysis/Dataset Kingston/S9/S9-9am-20191203.csv', encoding='utf-7')\n",
        "data_trip_9am_3 = pd.read_csv('/content/drive/My Drive/Tugas Akhir - 4G LTE Network Performance Analysis/Dataset Kingston/S10e/S10e-9am-20191205.csv', encoding='utf-7')\n",
        "data_trip_9am_4 = pd.read_csv('/content/drive/My Drive/Tugas Akhir - 4G LTE Network Performance Analysis/Dataset Kingston/S10e/S10e-9am-20191203.csv', encoding='utf-7')\n",
        "data_trip_12pm_1 = pd.read_csv('/content/drive/My Drive/Tugas Akhir - 4G LTE Network Performance Analysis/Dataset Kingston/S9/S9-12pm-20191210.csv', encoding='utf-7')\n",
        "data_trip_12pm_2 = pd.read_csv('/content/drive/My Drive/Tugas Akhir - 4G LTE Network Performance Analysis/Dataset Kingston/S9/S9-12pm-20191209.csv', encoding='utf-7')\n",
        "data_trip_12pm_3 = pd.read_csv('/content/drive/My Drive/Tugas Akhir - 4G LTE Network Performance Analysis/Dataset Kingston/S10e/S10e-12pm-20191210.csv', encoding='utf-7')\n",
        "data_trip_12pm_4 = pd.read_csv('/content/drive/My Drive/Tugas Akhir - 4G LTE Network Performance Analysis/Dataset Kingston/S10e/S10e-12pm-20191209.csv', encoding='utf-7')\n",
        "data_trip_6pm_1 = pd.read_csv('/content/drive/My Drive/Tugas Akhir - 4G LTE Network Performance Analysis/Dataset Kingston/S9/S9-6pm-20191205.csv', encoding='utf-7')\n",
        "data_trip_6pm_2 = pd.read_csv('/content/drive/My Drive/Tugas Akhir - 4G LTE Network Performance Analysis/Dataset Kingston/S9/S9-6pm-20191204.csv', encoding='utf-7')\n",
        "data_trip_6pm_3 = pd.read_csv('/content/drive/My Drive/Tugas Akhir - 4G LTE Network Performance Analysis/Dataset Kingston/S10e/S10e-6pm-20191205.csv', encoding='utf-7')\n",
        "data_trip_6pm_4 = pd.read_csv('/content/drive/My Drive/Tugas Akhir - 4G LTE Network Performance Analysis/Dataset Kingston/S10e/S10e-6pm-20191204.csv', encoding='utf-7')"
      ],
      "metadata": {
        "id": "gmnM5ijIpL1A"
      },
      "execution_count": null,
      "outputs": []
    },
    {
      "cell_type": "code",
      "source": [
        "data_trip_9am_1"
      ],
      "metadata": {
        "colab": {
          "base_uri": "https://localhost:8080/"
        },
        "id": "oRdH2iIDpx93",
        "outputId": "daa34212-a82f-4649-c7dc-b7d43d53d468"
      },
      "execution_count": null,
      "outputs": [
        {
          "output_type": "execute_result",
          "data": {
            "text/html": [
              "<div>\n",
              "<style scoped>\n",
              "    .dataframe tbody tr th:only-of-type {\n",
              "        vertical-align: middle;\n",
              "    }\n",
              "\n",
              "    .dataframe tbody tr th {\n",
              "        vertical-align: top;\n",
              "    }\n",
              "\n",
              "    .dataframe thead th {\n",
              "        text-align: right;\n",
              "    }\n",
              "</style>\n",
              "<table border=\"1\" class=\"dataframe\">\n",
              "  <thead>\n",
              "    <tr style=\"text-align: right;\">\n",
              "      <th></th>\n",
              "      <th>Timestamp</th>\n",
              "      <th>Longitude</th>\n",
              "      <th>Latitude</th>\n",
              "      <th>Speed</th>\n",
              "      <th>Operatorname</th>\n",
              "      <th>Operator</th>\n",
              "      <th>CGI</th>\n",
              "      <th>Cellname</th>\n",
              "      <th>Node</th>\n",
              "      <th>CellID</th>\n",
              "      <th>LAC</th>\n",
              "      <th>NetworkTech</th>\n",
              "      <th>NetworkMode</th>\n",
              "      <th>RSRP</th>\n",
              "      <th>RSRQ</th>\n",
              "      <th>SNR</th>\n",
              "      <th>CQI</th>\n",
              "      <th>LTERSSI</th>\n",
              "      <th>ARFCN</th>\n",
              "      <th>DL_bitrate</th>\n",
              "      <th>UL_bitrate</th>\n",
              "      <th>PSC</th>\n",
              "      <th>Altitude</th>\n",
              "      <th>Height</th>\n",
              "      <th>Accuracy</th>\n",
              "      <th>Location</th>\n",
              "      <th>State</th>\n",
              "      <th>PINGAVG</th>\n",
              "      <th>PINGMIN</th>\n",
              "      <th>PINGMAX</th>\n",
              "      <th>PINGSTDEV</th>\n",
              "      <th>PINGLOSS</th>\n",
              "      <th>TESTDOWNLINK</th>\n",
              "      <th>TESTUPLINK</th>\n",
              "      <th>TESTDOWNLINKMAX</th>\n",
              "      <th>TESTUPLINKMAX</th>\n",
              "      <th>Test_Status</th>\n",
              "      <th>DataConnection_Type</th>\n",
              "      <th>DataConnection_Info</th>\n",
              "      <th>Layer</th>\n",
              "      <th>...</th>\n",
              "      <th>NTech15</th>\n",
              "      <th>NCellName15</th>\n",
              "      <th>NCellid15</th>\n",
              "      <th>NLAC15</th>\n",
              "      <th>NCell15</th>\n",
              "      <th>NARFCN15</th>\n",
              "      <th>NRxLev15</th>\n",
              "      <th>NQual15</th>\n",
              "      <th>NDistance15</th>\n",
              "      <th>NBearing15</th>\n",
              "      <th>NTech16</th>\n",
              "      <th>NCellName16</th>\n",
              "      <th>NCellid16</th>\n",
              "      <th>NLAC16</th>\n",
              "      <th>NCell16</th>\n",
              "      <th>NARFCN16</th>\n",
              "      <th>NRxLev16</th>\n",
              "      <th>NQual16</th>\n",
              "      <th>NDistance16</th>\n",
              "      <th>NBearing16</th>\n",
              "      <th>NTech17</th>\n",
              "      <th>NCellName17</th>\n",
              "      <th>NCellid17</th>\n",
              "      <th>NLAC17</th>\n",
              "      <th>NCell17</th>\n",
              "      <th>NARFCN17</th>\n",
              "      <th>NRxLev17</th>\n",
              "      <th>NQual17</th>\n",
              "      <th>NDistance17</th>\n",
              "      <th>NBearing17</th>\n",
              "      <th>NTech18</th>\n",
              "      <th>NCellName18</th>\n",
              "      <th>NCellid18</th>\n",
              "      <th>NLAC18</th>\n",
              "      <th>NCell18</th>\n",
              "      <th>NARFCN18</th>\n",
              "      <th>NRxLev18</th>\n",
              "      <th>NQual18</th>\n",
              "      <th>NDistance18</th>\n",
              "      <th>NBearing18</th>\n",
              "    </tr>\n",
              "  </thead>\n",
              "  <tbody>\n",
              "    <tr>\n",
              "      <th>0</th>\n",
              "      <td>2019-12-05 09:02:32</td>\n",
              "      <td>-76.49136</td>\n",
              "      <td>44.232045</td>\n",
              "      <td>36</td>\n",
              "      <td>TELUS</td>\n",
              "      <td>302610</td>\n",
              "      <td>3026105600900001</td>\n",
              "      <td>NaN</td>\n",
              "      <td>543074</td>\n",
              "      <td>1</td>\n",
              "      <td>56009</td>\n",
              "      <td>4G</td>\n",
              "      <td>LTE</td>\n",
              "      <td>-84</td>\n",
              "      <td>-7</td>\n",
              "      <td>10.8</td>\n",
              "      <td>-</td>\n",
              "      <td>-66</td>\n",
              "      <td>2325</td>\n",
              "      <td>21</td>\n",
              "      <td>1231</td>\n",
              "      <td>77</td>\n",
              "      <td>62</td>\n",
              "      <td>62</td>\n",
              "      <td>10</td>\n",
              "      <td>G</td>\n",
              "      <td>D</td>\n",
              "      <td>NaN</td>\n",
              "      <td>NaN</td>\n",
              "      <td>NaN</td>\n",
              "      <td>NaN</td>\n",
              "      <td>NaN</td>\n",
              "      <td>NaN</td>\n",
              "      <td>NaN</td>\n",
              "      <td>NaN</td>\n",
              "      <td>NaN</td>\n",
              "      <td>NaN</td>\n",
              "      <td>M</td>\n",
              "      <td>13</td>\n",
              "      <td>1</td>\n",
              "      <td>...</td>\n",
              "      <td>NaN</td>\n",
              "      <td>NaN</td>\n",
              "      <td>NaN</td>\n",
              "      <td>NaN</td>\n",
              "      <td>NaN</td>\n",
              "      <td>NaN</td>\n",
              "      <td>NaN</td>\n",
              "      <td>NaN</td>\n",
              "      <td>NaN</td>\n",
              "      <td>NaN</td>\n",
              "      <td>NaN</td>\n",
              "      <td>NaN</td>\n",
              "      <td>NaN</td>\n",
              "      <td>NaN</td>\n",
              "      <td>NaN</td>\n",
              "      <td>NaN</td>\n",
              "      <td>NaN</td>\n",
              "      <td>NaN</td>\n",
              "      <td>NaN</td>\n",
              "      <td>NaN</td>\n",
              "      <td>NaN</td>\n",
              "      <td>NaN</td>\n",
              "      <td>NaN</td>\n",
              "      <td>NaN</td>\n",
              "      <td>NaN</td>\n",
              "      <td>NaN</td>\n",
              "      <td>NaN</td>\n",
              "      <td>NaN</td>\n",
              "      <td>NaN</td>\n",
              "      <td>NaN</td>\n",
              "      <td>NaN</td>\n",
              "      <td>NaN</td>\n",
              "      <td>NaN</td>\n",
              "      <td>NaN</td>\n",
              "      <td>NaN</td>\n",
              "      <td>NaN</td>\n",
              "      <td>NaN</td>\n",
              "      <td>NaN</td>\n",
              "      <td>NaN</td>\n",
              "      <td>NaN</td>\n",
              "    </tr>\n",
              "    <tr>\n",
              "      <th>1</th>\n",
              "      <td>2019-12-05 09:02:32</td>\n",
              "      <td>-76.49136</td>\n",
              "      <td>44.232045</td>\n",
              "      <td>36</td>\n",
              "      <td>TELUS</td>\n",
              "      <td>302610</td>\n",
              "      <td>3026105600900001</td>\n",
              "      <td>NaN</td>\n",
              "      <td>543074</td>\n",
              "      <td>1</td>\n",
              "      <td>56009</td>\n",
              "      <td>4G</td>\n",
              "      <td>LTE</td>\n",
              "      <td>-84</td>\n",
              "      <td>-7</td>\n",
              "      <td>10.8</td>\n",
              "      <td>-</td>\n",
              "      <td>-66</td>\n",
              "      <td>2325</td>\n",
              "      <td>7651</td>\n",
              "      <td>3799</td>\n",
              "      <td>77</td>\n",
              "      <td>62</td>\n",
              "      <td>62</td>\n",
              "      <td>10</td>\n",
              "      <td>G</td>\n",
              "      <td>D</td>\n",
              "      <td>NaN</td>\n",
              "      <td>NaN</td>\n",
              "      <td>NaN</td>\n",
              "      <td>NaN</td>\n",
              "      <td>NaN</td>\n",
              "      <td>NaN</td>\n",
              "      <td>NaN</td>\n",
              "      <td>NaN</td>\n",
              "      <td>NaN</td>\n",
              "      <td>NaN</td>\n",
              "      <td>M</td>\n",
              "      <td>13</td>\n",
              "      <td>1</td>\n",
              "      <td>...</td>\n",
              "      <td>NaN</td>\n",
              "      <td>NaN</td>\n",
              "      <td>NaN</td>\n",
              "      <td>NaN</td>\n",
              "      <td>NaN</td>\n",
              "      <td>NaN</td>\n",
              "      <td>NaN</td>\n",
              "      <td>NaN</td>\n",
              "      <td>NaN</td>\n",
              "      <td>NaN</td>\n",
              "      <td>NaN</td>\n",
              "      <td>NaN</td>\n",
              "      <td>NaN</td>\n",
              "      <td>NaN</td>\n",
              "      <td>NaN</td>\n",
              "      <td>NaN</td>\n",
              "      <td>NaN</td>\n",
              "      <td>NaN</td>\n",
              "      <td>NaN</td>\n",
              "      <td>NaN</td>\n",
              "      <td>NaN</td>\n",
              "      <td>NaN</td>\n",
              "      <td>NaN</td>\n",
              "      <td>NaN</td>\n",
              "      <td>NaN</td>\n",
              "      <td>NaN</td>\n",
              "      <td>NaN</td>\n",
              "      <td>NaN</td>\n",
              "      <td>NaN</td>\n",
              "      <td>NaN</td>\n",
              "      <td>NaN</td>\n",
              "      <td>NaN</td>\n",
              "      <td>NaN</td>\n",
              "      <td>NaN</td>\n",
              "      <td>NaN</td>\n",
              "      <td>NaN</td>\n",
              "      <td>NaN</td>\n",
              "      <td>NaN</td>\n",
              "      <td>NaN</td>\n",
              "      <td>NaN</td>\n",
              "    </tr>\n",
              "    <tr>\n",
              "      <th>2</th>\n",
              "      <td>2019-12-05 09:02:33</td>\n",
              "      <td>-76.49147</td>\n",
              "      <td>44.232058</td>\n",
              "      <td>36</td>\n",
              "      <td>TELUS</td>\n",
              "      <td>302610</td>\n",
              "      <td>3026105600900001</td>\n",
              "      <td>NaN</td>\n",
              "      <td>543074</td>\n",
              "      <td>1</td>\n",
              "      <td>56009</td>\n",
              "      <td>4G</td>\n",
              "      <td>LTE</td>\n",
              "      <td>-84</td>\n",
              "      <td>-7</td>\n",
              "      <td>7.2</td>\n",
              "      <td>-</td>\n",
              "      <td>-66</td>\n",
              "      <td>2325</td>\n",
              "      <td>7651</td>\n",
              "      <td>3799</td>\n",
              "      <td>77</td>\n",
              "      <td>63</td>\n",
              "      <td>63</td>\n",
              "      <td>9</td>\n",
              "      <td>G</td>\n",
              "      <td>D</td>\n",
              "      <td>NaN</td>\n",
              "      <td>NaN</td>\n",
              "      <td>NaN</td>\n",
              "      <td>NaN</td>\n",
              "      <td>NaN</td>\n",
              "      <td>NaN</td>\n",
              "      <td>NaN</td>\n",
              "      <td>NaN</td>\n",
              "      <td>NaN</td>\n",
              "      <td>NaN</td>\n",
              "      <td>M</td>\n",
              "      <td>13</td>\n",
              "      <td>1</td>\n",
              "      <td>...</td>\n",
              "      <td>NaN</td>\n",
              "      <td>NaN</td>\n",
              "      <td>NaN</td>\n",
              "      <td>NaN</td>\n",
              "      <td>NaN</td>\n",
              "      <td>NaN</td>\n",
              "      <td>NaN</td>\n",
              "      <td>NaN</td>\n",
              "      <td>NaN</td>\n",
              "      <td>NaN</td>\n",
              "      <td>NaN</td>\n",
              "      <td>NaN</td>\n",
              "      <td>NaN</td>\n",
              "      <td>NaN</td>\n",
              "      <td>NaN</td>\n",
              "      <td>NaN</td>\n",
              "      <td>NaN</td>\n",
              "      <td>NaN</td>\n",
              "      <td>NaN</td>\n",
              "      <td>NaN</td>\n",
              "      <td>NaN</td>\n",
              "      <td>NaN</td>\n",
              "      <td>NaN</td>\n",
              "      <td>NaN</td>\n",
              "      <td>NaN</td>\n",
              "      <td>NaN</td>\n",
              "      <td>NaN</td>\n",
              "      <td>NaN</td>\n",
              "      <td>NaN</td>\n",
              "      <td>NaN</td>\n",
              "      <td>NaN</td>\n",
              "      <td>NaN</td>\n",
              "      <td>NaN</td>\n",
              "      <td>NaN</td>\n",
              "      <td>NaN</td>\n",
              "      <td>NaN</td>\n",
              "      <td>NaN</td>\n",
              "      <td>NaN</td>\n",
              "      <td>NaN</td>\n",
              "      <td>NaN</td>\n",
              "    </tr>\n",
              "    <tr>\n",
              "      <th>3</th>\n",
              "      <td>2019-12-05 09:02:33</td>\n",
              "      <td>-76.49147</td>\n",
              "      <td>44.232058</td>\n",
              "      <td>36</td>\n",
              "      <td>TELUS</td>\n",
              "      <td>302610</td>\n",
              "      <td>3026105600900001</td>\n",
              "      <td>NaN</td>\n",
              "      <td>543074</td>\n",
              "      <td>1</td>\n",
              "      <td>56009</td>\n",
              "      <td>4G</td>\n",
              "      <td>LTE</td>\n",
              "      <td>-94</td>\n",
              "      <td>-16</td>\n",
              "      <td>7.2</td>\n",
              "      <td>-</td>\n",
              "      <td>-66</td>\n",
              "      <td>2325</td>\n",
              "      <td>10017</td>\n",
              "      <td>448</td>\n",
              "      <td>77</td>\n",
              "      <td>63</td>\n",
              "      <td>63</td>\n",
              "      <td>9</td>\n",
              "      <td>G</td>\n",
              "      <td>D</td>\n",
              "      <td>NaN</td>\n",
              "      <td>NaN</td>\n",
              "      <td>NaN</td>\n",
              "      <td>NaN</td>\n",
              "      <td>NaN</td>\n",
              "      <td>NaN</td>\n",
              "      <td>NaN</td>\n",
              "      <td>NaN</td>\n",
              "      <td>NaN</td>\n",
              "      <td>UPLOAD/DOWNLOAD</td>\n",
              "      <td>M</td>\n",
              "      <td>13</td>\n",
              "      <td>1</td>\n",
              "      <td>...</td>\n",
              "      <td>NaN</td>\n",
              "      <td>NaN</td>\n",
              "      <td>NaN</td>\n",
              "      <td>NaN</td>\n",
              "      <td>NaN</td>\n",
              "      <td>NaN</td>\n",
              "      <td>NaN</td>\n",
              "      <td>NaN</td>\n",
              "      <td>NaN</td>\n",
              "      <td>NaN</td>\n",
              "      <td>NaN</td>\n",
              "      <td>NaN</td>\n",
              "      <td>NaN</td>\n",
              "      <td>NaN</td>\n",
              "      <td>NaN</td>\n",
              "      <td>NaN</td>\n",
              "      <td>NaN</td>\n",
              "      <td>NaN</td>\n",
              "      <td>NaN</td>\n",
              "      <td>NaN</td>\n",
              "      <td>NaN</td>\n",
              "      <td>NaN</td>\n",
              "      <td>NaN</td>\n",
              "      <td>NaN</td>\n",
              "      <td>NaN</td>\n",
              "      <td>NaN</td>\n",
              "      <td>NaN</td>\n",
              "      <td>NaN</td>\n",
              "      <td>NaN</td>\n",
              "      <td>NaN</td>\n",
              "      <td>NaN</td>\n",
              "      <td>NaN</td>\n",
              "      <td>NaN</td>\n",
              "      <td>NaN</td>\n",
              "      <td>NaN</td>\n",
              "      <td>NaN</td>\n",
              "      <td>NaN</td>\n",
              "      <td>NaN</td>\n",
              "      <td>NaN</td>\n",
              "      <td>NaN</td>\n",
              "    </tr>\n",
              "    <tr>\n",
              "      <th>4</th>\n",
              "      <td>2019-12-05 09:02:34</td>\n",
              "      <td>-76.49160</td>\n",
              "      <td>44.232078</td>\n",
              "      <td>39</td>\n",
              "      <td>TELUS</td>\n",
              "      <td>302610</td>\n",
              "      <td>3026105600900001</td>\n",
              "      <td>NaN</td>\n",
              "      <td>543074</td>\n",
              "      <td>1</td>\n",
              "      <td>56009</td>\n",
              "      <td>4G</td>\n",
              "      <td>LTE</td>\n",
              "      <td>-94</td>\n",
              "      <td>-16</td>\n",
              "      <td>5.4</td>\n",
              "      <td>-</td>\n",
              "      <td>-66</td>\n",
              "      <td>2325</td>\n",
              "      <td>10017</td>\n",
              "      <td>448</td>\n",
              "      <td>77</td>\n",
              "      <td>63</td>\n",
              "      <td>63</td>\n",
              "      <td>9</td>\n",
              "      <td>G</td>\n",
              "      <td>D</td>\n",
              "      <td>NaN</td>\n",
              "      <td>NaN</td>\n",
              "      <td>NaN</td>\n",
              "      <td>NaN</td>\n",
              "      <td>NaN</td>\n",
              "      <td>NaN</td>\n",
              "      <td>NaN</td>\n",
              "      <td>NaN</td>\n",
              "      <td>NaN</td>\n",
              "      <td>UPLOAD/DOWNLOAD</td>\n",
              "      <td>M</td>\n",
              "      <td>13</td>\n",
              "      <td>1</td>\n",
              "      <td>...</td>\n",
              "      <td>NaN</td>\n",
              "      <td>NaN</td>\n",
              "      <td>NaN</td>\n",
              "      <td>NaN</td>\n",
              "      <td>NaN</td>\n",
              "      <td>NaN</td>\n",
              "      <td>NaN</td>\n",
              "      <td>NaN</td>\n",
              "      <td>NaN</td>\n",
              "      <td>NaN</td>\n",
              "      <td>NaN</td>\n",
              "      <td>NaN</td>\n",
              "      <td>NaN</td>\n",
              "      <td>NaN</td>\n",
              "      <td>NaN</td>\n",
              "      <td>NaN</td>\n",
              "      <td>NaN</td>\n",
              "      <td>NaN</td>\n",
              "      <td>NaN</td>\n",
              "      <td>NaN</td>\n",
              "      <td>NaN</td>\n",
              "      <td>NaN</td>\n",
              "      <td>NaN</td>\n",
              "      <td>NaN</td>\n",
              "      <td>NaN</td>\n",
              "      <td>NaN</td>\n",
              "      <td>NaN</td>\n",
              "      <td>NaN</td>\n",
              "      <td>NaN</td>\n",
              "      <td>NaN</td>\n",
              "      <td>NaN</td>\n",
              "      <td>NaN</td>\n",
              "      <td>NaN</td>\n",
              "      <td>NaN</td>\n",
              "      <td>NaN</td>\n",
              "      <td>NaN</td>\n",
              "      <td>NaN</td>\n",
              "      <td>NaN</td>\n",
              "      <td>NaN</td>\n",
              "      <td>NaN</td>\n",
              "    </tr>\n",
              "    <tr>\n",
              "      <th>...</th>\n",
              "      <td>...</td>\n",
              "      <td>...</td>\n",
              "      <td>...</td>\n",
              "      <td>...</td>\n",
              "      <td>...</td>\n",
              "      <td>...</td>\n",
              "      <td>...</td>\n",
              "      <td>...</td>\n",
              "      <td>...</td>\n",
              "      <td>...</td>\n",
              "      <td>...</td>\n",
              "      <td>...</td>\n",
              "      <td>...</td>\n",
              "      <td>...</td>\n",
              "      <td>...</td>\n",
              "      <td>...</td>\n",
              "      <td>...</td>\n",
              "      <td>...</td>\n",
              "      <td>...</td>\n",
              "      <td>...</td>\n",
              "      <td>...</td>\n",
              "      <td>...</td>\n",
              "      <td>...</td>\n",
              "      <td>...</td>\n",
              "      <td>...</td>\n",
              "      <td>...</td>\n",
              "      <td>...</td>\n",
              "      <td>...</td>\n",
              "      <td>...</td>\n",
              "      <td>...</td>\n",
              "      <td>...</td>\n",
              "      <td>...</td>\n",
              "      <td>...</td>\n",
              "      <td>...</td>\n",
              "      <td>...</td>\n",
              "      <td>...</td>\n",
              "      <td>...</td>\n",
              "      <td>...</td>\n",
              "      <td>...</td>\n",
              "      <td>...</td>\n",
              "      <td>...</td>\n",
              "      <td>...</td>\n",
              "      <td>...</td>\n",
              "      <td>...</td>\n",
              "      <td>...</td>\n",
              "      <td>...</td>\n",
              "      <td>...</td>\n",
              "      <td>...</td>\n",
              "      <td>...</td>\n",
              "      <td>...</td>\n",
              "      <td>...</td>\n",
              "      <td>...</td>\n",
              "      <td>...</td>\n",
              "      <td>...</td>\n",
              "      <td>...</td>\n",
              "      <td>...</td>\n",
              "      <td>...</td>\n",
              "      <td>...</td>\n",
              "      <td>...</td>\n",
              "      <td>...</td>\n",
              "      <td>...</td>\n",
              "      <td>...</td>\n",
              "      <td>...</td>\n",
              "      <td>...</td>\n",
              "      <td>...</td>\n",
              "      <td>...</td>\n",
              "      <td>...</td>\n",
              "      <td>...</td>\n",
              "      <td>...</td>\n",
              "      <td>...</td>\n",
              "      <td>...</td>\n",
              "      <td>...</td>\n",
              "      <td>...</td>\n",
              "      <td>...</td>\n",
              "      <td>...</td>\n",
              "      <td>...</td>\n",
              "      <td>...</td>\n",
              "      <td>...</td>\n",
              "      <td>...</td>\n",
              "      <td>...</td>\n",
              "      <td>...</td>\n",
              "    </tr>\n",
              "    <tr>\n",
              "      <th>7287</th>\n",
              "      <td>2019-12-05 09:53:26</td>\n",
              "      <td>-76.48473</td>\n",
              "      <td>44.231050</td>\n",
              "      <td>3</td>\n",
              "      <td>TELUS</td>\n",
              "      <td>302610</td>\n",
              "      <td>3026105600900001</td>\n",
              "      <td>NaN</td>\n",
              "      <td>543058</td>\n",
              "      <td>1</td>\n",
              "      <td>56009</td>\n",
              "      <td>4G</td>\n",
              "      <td>LTE</td>\n",
              "      <td>-96</td>\n",
              "      <td>-15</td>\n",
              "      <td>-0.8</td>\n",
              "      <td>-</td>\n",
              "      <td>-68</td>\n",
              "      <td>2325</td>\n",
              "      <td>21320</td>\n",
              "      <td>311</td>\n",
              "      <td>363</td>\n",
              "      <td>54</td>\n",
              "      <td>54</td>\n",
              "      <td>5</td>\n",
              "      <td>G</td>\n",
              "      <td>D</td>\n",
              "      <td>NaN</td>\n",
              "      <td>NaN</td>\n",
              "      <td>NaN</td>\n",
              "      <td>NaN</td>\n",
              "      <td>NaN</td>\n",
              "      <td>NaN</td>\n",
              "      <td>NaN</td>\n",
              "      <td>NaN</td>\n",
              "      <td>NaN</td>\n",
              "      <td>PING</td>\n",
              "      <td>M</td>\n",
              "      <td>13</td>\n",
              "      <td>1</td>\n",
              "      <td>...</td>\n",
              "      <td>NaN</td>\n",
              "      <td>NaN</td>\n",
              "      <td>NaN</td>\n",
              "      <td>NaN</td>\n",
              "      <td>NaN</td>\n",
              "      <td>NaN</td>\n",
              "      <td>NaN</td>\n",
              "      <td>NaN</td>\n",
              "      <td>NaN</td>\n",
              "      <td>NaN</td>\n",
              "      <td>NaN</td>\n",
              "      <td>NaN</td>\n",
              "      <td>NaN</td>\n",
              "      <td>NaN</td>\n",
              "      <td>NaN</td>\n",
              "      <td>NaN</td>\n",
              "      <td>NaN</td>\n",
              "      <td>NaN</td>\n",
              "      <td>NaN</td>\n",
              "      <td>NaN</td>\n",
              "      <td>NaN</td>\n",
              "      <td>NaN</td>\n",
              "      <td>NaN</td>\n",
              "      <td>NaN</td>\n",
              "      <td>NaN</td>\n",
              "      <td>NaN</td>\n",
              "      <td>NaN</td>\n",
              "      <td>NaN</td>\n",
              "      <td>NaN</td>\n",
              "      <td>NaN</td>\n",
              "      <td>NaN</td>\n",
              "      <td>NaN</td>\n",
              "      <td>NaN</td>\n",
              "      <td>NaN</td>\n",
              "      <td>NaN</td>\n",
              "      <td>NaN</td>\n",
              "      <td>NaN</td>\n",
              "      <td>NaN</td>\n",
              "      <td>NaN</td>\n",
              "      <td>NaN</td>\n",
              "    </tr>\n",
              "    <tr>\n",
              "      <th>7288</th>\n",
              "      <td>2019-12-05 09:53:27</td>\n",
              "      <td>-76.48474</td>\n",
              "      <td>44.231050</td>\n",
              "      <td>0</td>\n",
              "      <td>TELUS</td>\n",
              "      <td>302610</td>\n",
              "      <td>3026105600900001</td>\n",
              "      <td>NaN</td>\n",
              "      <td>543058</td>\n",
              "      <td>1</td>\n",
              "      <td>56009</td>\n",
              "      <td>4G</td>\n",
              "      <td>LTE</td>\n",
              "      <td>-96</td>\n",
              "      <td>-15</td>\n",
              "      <td>-0.8</td>\n",
              "      <td>-</td>\n",
              "      <td>-68</td>\n",
              "      <td>2325</td>\n",
              "      <td>21320</td>\n",
              "      <td>311</td>\n",
              "      <td>363</td>\n",
              "      <td>53</td>\n",
              "      <td>53</td>\n",
              "      <td>4</td>\n",
              "      <td>G</td>\n",
              "      <td>D</td>\n",
              "      <td>NaN</td>\n",
              "      <td>NaN</td>\n",
              "      <td>NaN</td>\n",
              "      <td>NaN</td>\n",
              "      <td>NaN</td>\n",
              "      <td>NaN</td>\n",
              "      <td>NaN</td>\n",
              "      <td>NaN</td>\n",
              "      <td>NaN</td>\n",
              "      <td>PING</td>\n",
              "      <td>M</td>\n",
              "      <td>13</td>\n",
              "      <td>1</td>\n",
              "      <td>...</td>\n",
              "      <td>NaN</td>\n",
              "      <td>NaN</td>\n",
              "      <td>NaN</td>\n",
              "      <td>NaN</td>\n",
              "      <td>NaN</td>\n",
              "      <td>NaN</td>\n",
              "      <td>NaN</td>\n",
              "      <td>NaN</td>\n",
              "      <td>NaN</td>\n",
              "      <td>NaN</td>\n",
              "      <td>NaN</td>\n",
              "      <td>NaN</td>\n",
              "      <td>NaN</td>\n",
              "      <td>NaN</td>\n",
              "      <td>NaN</td>\n",
              "      <td>NaN</td>\n",
              "      <td>NaN</td>\n",
              "      <td>NaN</td>\n",
              "      <td>NaN</td>\n",
              "      <td>NaN</td>\n",
              "      <td>NaN</td>\n",
              "      <td>NaN</td>\n",
              "      <td>NaN</td>\n",
              "      <td>NaN</td>\n",
              "      <td>NaN</td>\n",
              "      <td>NaN</td>\n",
              "      <td>NaN</td>\n",
              "      <td>NaN</td>\n",
              "      <td>NaN</td>\n",
              "      <td>NaN</td>\n",
              "      <td>NaN</td>\n",
              "      <td>NaN</td>\n",
              "      <td>NaN</td>\n",
              "      <td>NaN</td>\n",
              "      <td>NaN</td>\n",
              "      <td>NaN</td>\n",
              "      <td>NaN</td>\n",
              "      <td>NaN</td>\n",
              "      <td>NaN</td>\n",
              "      <td>NaN</td>\n",
              "    </tr>\n",
              "    <tr>\n",
              "      <th>7289</th>\n",
              "      <td>2019-12-05 09:53:27</td>\n",
              "      <td>-76.48474</td>\n",
              "      <td>44.231050</td>\n",
              "      <td>0</td>\n",
              "      <td>TELUS</td>\n",
              "      <td>302610</td>\n",
              "      <td>3026105600900001</td>\n",
              "      <td>NaN</td>\n",
              "      <td>543058</td>\n",
              "      <td>1</td>\n",
              "      <td>56009</td>\n",
              "      <td>4G</td>\n",
              "      <td>LTE</td>\n",
              "      <td>-96</td>\n",
              "      <td>-15</td>\n",
              "      <td>-0.8</td>\n",
              "      <td>-</td>\n",
              "      <td>-68</td>\n",
              "      <td>2325</td>\n",
              "      <td>21320</td>\n",
              "      <td>311</td>\n",
              "      <td>363</td>\n",
              "      <td>53</td>\n",
              "      <td>53</td>\n",
              "      <td>4</td>\n",
              "      <td>G</td>\n",
              "      <td>D</td>\n",
              "      <td>160.0</td>\n",
              "      <td>160.0</td>\n",
              "      <td>160.0</td>\n",
              "      <td>0.0</td>\n",
              "      <td>0.0</td>\n",
              "      <td>NaN</td>\n",
              "      <td>NaN</td>\n",
              "      <td>NaN</td>\n",
              "      <td>NaN</td>\n",
              "      <td>PING</td>\n",
              "      <td>M</td>\n",
              "      <td>13</td>\n",
              "      <td>1</td>\n",
              "      <td>...</td>\n",
              "      <td>NaN</td>\n",
              "      <td>NaN</td>\n",
              "      <td>NaN</td>\n",
              "      <td>NaN</td>\n",
              "      <td>NaN</td>\n",
              "      <td>NaN</td>\n",
              "      <td>NaN</td>\n",
              "      <td>NaN</td>\n",
              "      <td>NaN</td>\n",
              "      <td>NaN</td>\n",
              "      <td>NaN</td>\n",
              "      <td>NaN</td>\n",
              "      <td>NaN</td>\n",
              "      <td>NaN</td>\n",
              "      <td>NaN</td>\n",
              "      <td>NaN</td>\n",
              "      <td>NaN</td>\n",
              "      <td>NaN</td>\n",
              "      <td>NaN</td>\n",
              "      <td>NaN</td>\n",
              "      <td>NaN</td>\n",
              "      <td>NaN</td>\n",
              "      <td>NaN</td>\n",
              "      <td>NaN</td>\n",
              "      <td>NaN</td>\n",
              "      <td>NaN</td>\n",
              "      <td>NaN</td>\n",
              "      <td>NaN</td>\n",
              "      <td>NaN</td>\n",
              "      <td>NaN</td>\n",
              "      <td>NaN</td>\n",
              "      <td>NaN</td>\n",
              "      <td>NaN</td>\n",
              "      <td>NaN</td>\n",
              "      <td>NaN</td>\n",
              "      <td>NaN</td>\n",
              "      <td>NaN</td>\n",
              "      <td>NaN</td>\n",
              "      <td>NaN</td>\n",
              "      <td>NaN</td>\n",
              "    </tr>\n",
              "    <tr>\n",
              "      <th>7290</th>\n",
              "      <td>2019-12-05 09:53:28</td>\n",
              "      <td>-76.48474</td>\n",
              "      <td>44.231050</td>\n",
              "      <td>0</td>\n",
              "      <td>TELUS</td>\n",
              "      <td>302610</td>\n",
              "      <td>3026105600900001</td>\n",
              "      <td>NaN</td>\n",
              "      <td>543058</td>\n",
              "      <td>1</td>\n",
              "      <td>56009</td>\n",
              "      <td>4G</td>\n",
              "      <td>LTE</td>\n",
              "      <td>-98</td>\n",
              "      <td>-12</td>\n",
              "      <td>-0.8</td>\n",
              "      <td>-</td>\n",
              "      <td>-68</td>\n",
              "      <td>2325</td>\n",
              "      <td>90</td>\n",
              "      <td>5038</td>\n",
              "      <td>363</td>\n",
              "      <td>53</td>\n",
              "      <td>53</td>\n",
              "      <td>4</td>\n",
              "      <td>G</td>\n",
              "      <td>D</td>\n",
              "      <td>NaN</td>\n",
              "      <td>NaN</td>\n",
              "      <td>NaN</td>\n",
              "      <td>NaN</td>\n",
              "      <td>NaN</td>\n",
              "      <td>NaN</td>\n",
              "      <td>NaN</td>\n",
              "      <td>NaN</td>\n",
              "      <td>NaN</td>\n",
              "      <td>NaN</td>\n",
              "      <td>M</td>\n",
              "      <td>13</td>\n",
              "      <td>1</td>\n",
              "      <td>...</td>\n",
              "      <td>NaN</td>\n",
              "      <td>NaN</td>\n",
              "      <td>NaN</td>\n",
              "      <td>NaN</td>\n",
              "      <td>NaN</td>\n",
              "      <td>NaN</td>\n",
              "      <td>NaN</td>\n",
              "      <td>NaN</td>\n",
              "      <td>NaN</td>\n",
              "      <td>NaN</td>\n",
              "      <td>NaN</td>\n",
              "      <td>NaN</td>\n",
              "      <td>NaN</td>\n",
              "      <td>NaN</td>\n",
              "      <td>NaN</td>\n",
              "      <td>NaN</td>\n",
              "      <td>NaN</td>\n",
              "      <td>NaN</td>\n",
              "      <td>NaN</td>\n",
              "      <td>NaN</td>\n",
              "      <td>NaN</td>\n",
              "      <td>NaN</td>\n",
              "      <td>NaN</td>\n",
              "      <td>NaN</td>\n",
              "      <td>NaN</td>\n",
              "      <td>NaN</td>\n",
              "      <td>NaN</td>\n",
              "      <td>NaN</td>\n",
              "      <td>NaN</td>\n",
              "      <td>NaN</td>\n",
              "      <td>NaN</td>\n",
              "      <td>NaN</td>\n",
              "      <td>NaN</td>\n",
              "      <td>NaN</td>\n",
              "      <td>NaN</td>\n",
              "      <td>NaN</td>\n",
              "      <td>NaN</td>\n",
              "      <td>NaN</td>\n",
              "      <td>NaN</td>\n",
              "      <td>NaN</td>\n",
              "    </tr>\n",
              "    <tr>\n",
              "      <th>7291</th>\n",
              "      <td>2019-12-05 09:53:28</td>\n",
              "      <td>-76.48474</td>\n",
              "      <td>44.231050</td>\n",
              "      <td>0</td>\n",
              "      <td>TELUS</td>\n",
              "      <td>302610</td>\n",
              "      <td>3026105600900001</td>\n",
              "      <td>NaN</td>\n",
              "      <td>543058</td>\n",
              "      <td>1</td>\n",
              "      <td>56009</td>\n",
              "      <td>4G</td>\n",
              "      <td>LTE</td>\n",
              "      <td>-98</td>\n",
              "      <td>-12</td>\n",
              "      <td>-0.8</td>\n",
              "      <td>-</td>\n",
              "      <td>-68</td>\n",
              "      <td>2325</td>\n",
              "      <td>90</td>\n",
              "      <td>5038</td>\n",
              "      <td>363</td>\n",
              "      <td>53</td>\n",
              "      <td>53</td>\n",
              "      <td>4</td>\n",
              "      <td>G</td>\n",
              "      <td>D</td>\n",
              "      <td>NaN</td>\n",
              "      <td>NaN</td>\n",
              "      <td>NaN</td>\n",
              "      <td>NaN</td>\n",
              "      <td>NaN</td>\n",
              "      <td>NaN</td>\n",
              "      <td>NaN</td>\n",
              "      <td>NaN</td>\n",
              "      <td>NaN</td>\n",
              "      <td>NaN</td>\n",
              "      <td>M</td>\n",
              "      <td>13</td>\n",
              "      <td>1</td>\n",
              "      <td>...</td>\n",
              "      <td>NaN</td>\n",
              "      <td>NaN</td>\n",
              "      <td>NaN</td>\n",
              "      <td>NaN</td>\n",
              "      <td>NaN</td>\n",
              "      <td>NaN</td>\n",
              "      <td>NaN</td>\n",
              "      <td>NaN</td>\n",
              "      <td>NaN</td>\n",
              "      <td>NaN</td>\n",
              "      <td>NaN</td>\n",
              "      <td>NaN</td>\n",
              "      <td>NaN</td>\n",
              "      <td>NaN</td>\n",
              "      <td>NaN</td>\n",
              "      <td>NaN</td>\n",
              "      <td>NaN</td>\n",
              "      <td>NaN</td>\n",
              "      <td>NaN</td>\n",
              "      <td>NaN</td>\n",
              "      <td>NaN</td>\n",
              "      <td>NaN</td>\n",
              "      <td>NaN</td>\n",
              "      <td>NaN</td>\n",
              "      <td>NaN</td>\n",
              "      <td>NaN</td>\n",
              "      <td>NaN</td>\n",
              "      <td>NaN</td>\n",
              "      <td>NaN</td>\n",
              "      <td>NaN</td>\n",
              "      <td>NaN</td>\n",
              "      <td>NaN</td>\n",
              "      <td>NaN</td>\n",
              "      <td>NaN</td>\n",
              "      <td>NaN</td>\n",
              "      <td>NaN</td>\n",
              "      <td>NaN</td>\n",
              "      <td>NaN</td>\n",
              "      <td>NaN</td>\n",
              "      <td>NaN</td>\n",
              "    </tr>\n",
              "  </tbody>\n",
              "</table>\n",
              "<p>7292 rows × 242 columns</p>\n",
              "</div>"
            ],
            "text/plain": [
              "                Timestamp  Longitude  ...  NDistance18  NBearing18\n",
              "0     2019-12-05 09:02:32  -76.49136  ...          NaN         NaN\n",
              "1     2019-12-05 09:02:32  -76.49136  ...          NaN         NaN\n",
              "2     2019-12-05 09:02:33  -76.49147  ...          NaN         NaN\n",
              "3     2019-12-05 09:02:33  -76.49147  ...          NaN         NaN\n",
              "4     2019-12-05 09:02:34  -76.49160  ...          NaN         NaN\n",
              "...                   ...        ...  ...          ...         ...\n",
              "7287  2019-12-05 09:53:26  -76.48473  ...          NaN         NaN\n",
              "7288  2019-12-05 09:53:27  -76.48474  ...          NaN         NaN\n",
              "7289  2019-12-05 09:53:27  -76.48474  ...          NaN         NaN\n",
              "7290  2019-12-05 09:53:28  -76.48474  ...          NaN         NaN\n",
              "7291  2019-12-05 09:53:28  -76.48474  ...          NaN         NaN\n",
              "\n",
              "[7292 rows x 242 columns]"
            ]
          },
          "metadata": {},
          "execution_count": 108
        }
      ]
    },
    {
      "cell_type": "code",
      "source": [
        "data_trip_9am_1 = data_trip_9am_1[['Timestamp','Longitude','Latitude','Speed','Operator','CellID','LAC','LTERSSI','RSRP','RSRQ','SNR','DL_bitrate','UL_bitrate']]\n",
        "data_trip_9am_2 = data_trip_9am_2[['Timestamp','Longitude','Latitude','Speed','Operator','CellID','LAC','LTERSSI','RSRP','RSRQ','SNR','DL_bitrate','UL_bitrate']]\n",
        "data_trip_9am_3 = data_trip_9am_3[['Timestamp','Longitude','Latitude','Speed','Operator','CellID','LAC','LTERSSI','RSRP','RSRQ','SNR','DL_bitrate','UL_bitrate']]\n",
        "data_trip_9am_4 = data_trip_9am_4[['Timestamp','Longitude','Latitude','Speed','Operator','CellID','LAC','LTERSSI','RSRP','RSRQ','SNR','DL_bitrate','UL_bitrate']]\n",
        "data_trip_12pm_1 = data_trip_12pm_1[['Timestamp','Longitude','Latitude','Speed','Operator','CellID','LAC','LTERSSI','RSRP','RSRQ','SNR','DL_bitrate','UL_bitrate']]\n",
        "data_trip_12pm_2 = data_trip_12pm_2[['Timestamp','Longitude','Latitude','Speed','Operator','CellID','LAC','LTERSSI','RSRP','RSRQ','SNR','DL_bitrate','UL_bitrate']]\n",
        "data_trip_12pm_3 = data_trip_12pm_3[['Timestamp','Longitude','Latitude','Speed','Operator','CellID','LAC','LTERSSI','RSRP','RSRQ','SNR','DL_bitrate','UL_bitrate']]\n",
        "data_trip_12pm_4 = data_trip_12pm_4[['Timestamp','Longitude','Latitude','Speed','Operator','CellID','LAC','LTERSSI','RSRP','RSRQ','SNR','DL_bitrate','UL_bitrate']]\n",
        "data_trip_6pm_1 = data_trip_6pm_1[['Timestamp','Longitude','Latitude','Speed','Operator','CellID','LAC','LTERSSI','RSRP','RSRQ','SNR','DL_bitrate','UL_bitrate']]\n",
        "data_trip_6pm_2 = data_trip_6pm_2[['Timestamp','Longitude','Latitude','Speed','Operator','CellID','LAC','LTERSSI','RSRP','RSRQ','SNR','DL_bitrate','UL_bitrate']]\n",
        "data_trip_6pm_3 = data_trip_6pm_3[['Timestamp','Longitude','Latitude','Speed','Operator','CellID','LAC','LTERSSI','RSRP','RSRQ','SNR','DL_bitrate','UL_bitrate']]\n",
        "data_trip_6pm_4 = data_trip_6pm_4[['Timestamp','Longitude','Latitude','Speed','Operator','CellID','LAC','LTERSSI','RSRP','RSRQ','SNR','DL_bitrate','UL_bitrate']]"
      ],
      "metadata": {
        "id": "rWMTm3YZnHK5"
      },
      "execution_count": null,
      "outputs": []
    },
    {
      "cell_type": "markdown",
      "source": [
        "### Exploratory Data Analysis - Variable Description"
      ],
      "metadata": {
        "id": "Ma8bt_KMhay2"
      }
    },
    {
      "cell_type": "markdown",
      "source": [
        "The following list provides the names of the logged parameters and their description:\n",
        "\n",
        "* Timestamp: precise time when the measurement is taken.\n",
        "* Longitude: one of the GPS coordinates of the mobile device.\n",
        "* Latitude: one of the GPS coordinates of the mobile device.\n",
        "* Speed: speed of the bus at the time of measurement in km/h, calculated from the GPS data.\n",
        "* Operator: the mobile country code (MCC) and mobile network code (MNC), which are used together to identify a mobile network operator uniquely.\n",
        "* CellID: cell ID of serving cell.\n",
        "* LAC: location area code of serving cell, a unique identifier used by each public land mobile network (PLMN) to update the location of mobile subscribers.\n",
        "* RSSI: received signal strength indicator, a measure of the power present in a received radio signal.\n",
        "* RSRP: reference signal received power; this is the measure of power of the LTE reference signals spread over the full bandwidth and narrowband.\n",
        "* RSRQ: reference signal received quality, indicates the quality of the received reference signal.\n",
        "* SNR: signal-to-noise ratio, which is the ratio of signal power to the noise power, expressed in decibels.\n",
        "* **Downlink bitrate: current downlink bitrate at the time of measurement expressed in kbps. (Target Feature)**\n",
        "* Uplink bitrate: current uplink bitrate at the time of measurement expressed in kbps."
      ],
      "metadata": {
        "id": "FNI4xmAVijwQ"
      }
    },
    {
      "cell_type": "code",
      "source": [
        "data_trip_9am_1.info()"
      ],
      "metadata": {
        "colab": {
          "base_uri": "https://localhost:8080/"
        },
        "id": "aBFDRwghig22",
        "outputId": "d469e7a5-8466-4c4f-f102-00b4233bfbe6"
      },
      "execution_count": null,
      "outputs": [
        {
          "output_type": "stream",
          "name": "stdout",
          "text": [
            "<class 'pandas.core.frame.DataFrame'>\n",
            "RangeIndex: 7292 entries, 0 to 7291\n",
            "Data columns (total 13 columns):\n",
            " #   Column      Non-Null Count  Dtype  \n",
            "---  ------      --------------  -----  \n",
            " 0   Timestamp   7292 non-null   object \n",
            " 1   Longitude   7292 non-null   float64\n",
            " 2   Latitude    7292 non-null   float64\n",
            " 3   Speed       7292 non-null   int64  \n",
            " 4   Operator    7292 non-null   int64  \n",
            " 5   CellID      7292 non-null   int64  \n",
            " 6   LAC         7292 non-null   int64  \n",
            " 7   LTERSSI     7292 non-null   int64  \n",
            " 8   RSRP        7292 non-null   int64  \n",
            " 9   RSRQ        7292 non-null   int64  \n",
            " 10  SNR         7292 non-null   float64\n",
            " 11  DL_bitrate  7292 non-null   int64  \n",
            " 12  UL_bitrate  7292 non-null   int64  \n",
            "dtypes: float64(3), int64(9), object(1)\n",
            "memory usage: 740.7+ KB\n"
          ]
        }
      ]
    },
    {
      "cell_type": "markdown",
      "source": [
        "From the output it can be seen that:\n",
        "\n",
        "* There are 1 column with object types, namely: timestamp. This column is a categorical feature (non-numeric features).\n",
        "\n",
        "* There are 3 numeric columns with data type float64, namely: longitude, latitude, and SNR. This is a numerical feature that is the result of a physical measurement.\n",
        "\n",
        "* There is 9 numeric columns with int64 data type, namely: Speed, Operator, CellID, LAC, LTERSSI, RSRP, RSRQ, DL_bitrate, UL_bitrate. And \"DL_bitrate\" column is our feature target."
      ],
      "metadata": {
        "id": "vmrkwqpkpraL"
      }
    },
    {
      "cell_type": "code",
      "source": [
        "data_trip_9am_1.describe()"
      ],
      "metadata": {
        "colab": {
          "base_uri": "https://localhost:8080/"
        },
        "id": "Zp1-hFnpizeb",
        "outputId": "9bbb2b48-dfd8-4719-ca23-51f41532c40d"
      },
      "execution_count": null,
      "outputs": [
        {
          "output_type": "execute_result",
          "data": {
            "text/html": [
              "<div>\n",
              "<style scoped>\n",
              "    .dataframe tbody tr th:only-of-type {\n",
              "        vertical-align: middle;\n",
              "    }\n",
              "\n",
              "    .dataframe tbody tr th {\n",
              "        vertical-align: top;\n",
              "    }\n",
              "\n",
              "    .dataframe thead th {\n",
              "        text-align: right;\n",
              "    }\n",
              "</style>\n",
              "<table border=\"1\" class=\"dataframe\">\n",
              "  <thead>\n",
              "    <tr style=\"text-align: right;\">\n",
              "      <th></th>\n",
              "      <th>Longitude</th>\n",
              "      <th>Latitude</th>\n",
              "      <th>Speed</th>\n",
              "      <th>Operator</th>\n",
              "      <th>CellID</th>\n",
              "      <th>LAC</th>\n",
              "      <th>LTERSSI</th>\n",
              "      <th>RSRP</th>\n",
              "      <th>RSRQ</th>\n",
              "      <th>SNR</th>\n",
              "      <th>DL_bitrate</th>\n",
              "      <th>UL_bitrate</th>\n",
              "    </tr>\n",
              "  </thead>\n",
              "  <tbody>\n",
              "    <tr>\n",
              "      <th>count</th>\n",
              "      <td>7292.000000</td>\n",
              "      <td>7292.000000</td>\n",
              "      <td>7292.000000</td>\n",
              "      <td>7292.000000</td>\n",
              "      <td>7292.000000</td>\n",
              "      <td>7292.0</td>\n",
              "      <td>7292.000000</td>\n",
              "      <td>7292.000000</td>\n",
              "      <td>7292.000000</td>\n",
              "      <td>7292.000000</td>\n",
              "      <td>7292.000000</td>\n",
              "      <td>7292.000000</td>\n",
              "    </tr>\n",
              "    <tr>\n",
              "      <th>mean</th>\n",
              "      <td>-76.545433</td>\n",
              "      <td>44.239899</td>\n",
              "      <td>26.672518</td>\n",
              "      <td>302604.544707</td>\n",
              "      <td>2.576385</td>\n",
              "      <td>56009.0</td>\n",
              "      <td>-67.784970</td>\n",
              "      <td>-93.179649</td>\n",
              "      <td>-14.938289</td>\n",
              "      <td>10.473368</td>\n",
              "      <td>33178.998080</td>\n",
              "      <td>3641.356281</td>\n",
              "    </tr>\n",
              "    <tr>\n",
              "      <th>std</th>\n",
              "      <td>0.034150</td>\n",
              "      <td>0.014598</td>\n",
              "      <td>21.733653</td>\n",
              "      <td>45.804934</td>\n",
              "      <td>0.930772</td>\n",
              "      <td>0.0</td>\n",
              "      <td>4.505575</td>\n",
              "      <td>11.317809</td>\n",
              "      <td>3.093749</td>\n",
              "      <td>7.169699</td>\n",
              "      <td>30051.051267</td>\n",
              "      <td>3672.883577</td>\n",
              "    </tr>\n",
              "    <tr>\n",
              "      <th>min</th>\n",
              "      <td>-76.593640</td>\n",
              "      <td>44.218345</td>\n",
              "      <td>0.000000</td>\n",
              "      <td>302220.000000</td>\n",
              "      <td>1.000000</td>\n",
              "      <td>56009.0</td>\n",
              "      <td>-81.000000</td>\n",
              "      <td>-118.000000</td>\n",
              "      <td>-20.000000</td>\n",
              "      <td>-6.000000</td>\n",
              "      <td>0.000000</td>\n",
              "      <td>0.000000</td>\n",
              "    </tr>\n",
              "    <tr>\n",
              "      <th>25%</th>\n",
              "      <td>-76.572310</td>\n",
              "      <td>44.224893</td>\n",
              "      <td>0.000000</td>\n",
              "      <td>302610.000000</td>\n",
              "      <td>2.000000</td>\n",
              "      <td>56009.0</td>\n",
              "      <td>-71.000000</td>\n",
              "      <td>-102.000000</td>\n",
              "      <td>-17.000000</td>\n",
              "      <td>5.600000</td>\n",
              "      <td>4400.500000</td>\n",
              "      <td>424.000000</td>\n",
              "    </tr>\n",
              "    <tr>\n",
              "      <th>50%</th>\n",
              "      <td>-76.553790</td>\n",
              "      <td>44.240484</td>\n",
              "      <td>28.000000</td>\n",
              "      <td>302610.000000</td>\n",
              "      <td>3.000000</td>\n",
              "      <td>56009.0</td>\n",
              "      <td>-67.000000</td>\n",
              "      <td>-94.000000</td>\n",
              "      <td>-15.000000</td>\n",
              "      <td>11.400000</td>\n",
              "      <td>25944.000000</td>\n",
              "      <td>1541.500000</td>\n",
              "    </tr>\n",
              "    <tr>\n",
              "      <th>75%</th>\n",
              "      <td>-76.512170</td>\n",
              "      <td>44.255001</td>\n",
              "      <td>48.000000</td>\n",
              "      <td>302610.000000</td>\n",
              "      <td>3.000000</td>\n",
              "      <td>56009.0</td>\n",
              "      <td>-63.000000</td>\n",
              "      <td>-84.000000</td>\n",
              "      <td>-13.000000</td>\n",
              "      <td>15.800000</td>\n",
              "      <td>56105.000000</td>\n",
              "      <td>8464.250000</td>\n",
              "    </tr>\n",
              "    <tr>\n",
              "      <th>max</th>\n",
              "      <td>-76.484430</td>\n",
              "      <td>44.259746</td>\n",
              "      <td>67.000000</td>\n",
              "      <td>302610.000000</td>\n",
              "      <td>4.000000</td>\n",
              "      <td>56009.0</td>\n",
              "      <td>-63.000000</td>\n",
              "      <td>-65.000000</td>\n",
              "      <td>-6.000000</td>\n",
              "      <td>28.000000</td>\n",
              "      <td>127567.000000</td>\n",
              "      <td>9797.000000</td>\n",
              "    </tr>\n",
              "  </tbody>\n",
              "</table>\n",
              "</div>"
            ],
            "text/plain": [
              "         Longitude     Latitude  ...     DL_bitrate   UL_bitrate\n",
              "count  7292.000000  7292.000000  ...    7292.000000  7292.000000\n",
              "mean    -76.545433    44.239899  ...   33178.998080  3641.356281\n",
              "std       0.034150     0.014598  ...   30051.051267  3672.883577\n",
              "min     -76.593640    44.218345  ...       0.000000     0.000000\n",
              "25%     -76.572310    44.224893  ...    4400.500000   424.000000\n",
              "50%     -76.553790    44.240484  ...   25944.000000  1541.500000\n",
              "75%     -76.512170    44.255001  ...   56105.000000  8464.250000\n",
              "max     -76.484430    44.259746  ...  127567.000000  9797.000000\n",
              "\n",
              "[8 rows x 12 columns]"
            ]
          },
          "metadata": {},
          "execution_count": 111
        }
      ]
    },
    {
      "cell_type": "markdown",
      "source": [
        "###  Missing Value Handling"
      ],
      "metadata": {
        "id": "tmrdQkWqAYtu"
      }
    },
    {
      "cell_type": "code",
      "source": [
        "# checking missing values\n",
        "data_trip_9am_1.isnull().sum()"
      ],
      "metadata": {
        "colab": {
          "base_uri": "https://localhost:8080/"
        },
        "id": "LWjhjmBGrMJ-",
        "outputId": "15b52cc4-bf75-4df2-d0ec-214832157b8e"
      },
      "execution_count": null,
      "outputs": [
        {
          "output_type": "execute_result",
          "data": {
            "text/plain": [
              "Timestamp     0\n",
              "Longitude     0\n",
              "Latitude      0\n",
              "Speed         0\n",
              "Operator      0\n",
              "CellID        0\n",
              "LAC           0\n",
              "LTERSSI       0\n",
              "RSRP          0\n",
              "RSRQ          0\n",
              "SNR           0\n",
              "DL_bitrate    0\n",
              "UL_bitrate    0\n",
              "dtype: int64"
            ]
          },
          "metadata": {},
          "execution_count": 112
        }
      ]
    },
    {
      "cell_type": "code",
      "source": [
        "data_trip_9am_2.isnull().sum()"
      ],
      "metadata": {
        "colab": {
          "base_uri": "https://localhost:8080/"
        },
        "id": "MAs0PxPok3nw",
        "outputId": "fc7661c6-6963-48c4-bbdd-509184154464"
      },
      "execution_count": null,
      "outputs": [
        {
          "output_type": "execute_result",
          "data": {
            "text/plain": [
              "Timestamp     0\n",
              "Longitude     0\n",
              "Latitude      0\n",
              "Speed         0\n",
              "Operator      0\n",
              "CellID        0\n",
              "LAC           0\n",
              "LTERSSI       0\n",
              "RSRP          0\n",
              "RSRQ          0\n",
              "SNR           0\n",
              "DL_bitrate    0\n",
              "UL_bitrate    0\n",
              "dtype: int64"
            ]
          },
          "metadata": {},
          "execution_count": 113
        }
      ]
    },
    {
      "cell_type": "code",
      "source": [
        "data_trip_9am_3.isnull().sum()"
      ],
      "metadata": {
        "colab": {
          "base_uri": "https://localhost:8080/"
        },
        "id": "tQtF_CeNCwoF",
        "outputId": "e1676722-c741-4a41-8a0e-40f6c8245f38"
      },
      "execution_count": null,
      "outputs": [
        {
          "output_type": "execute_result",
          "data": {
            "text/plain": [
              "Timestamp     0\n",
              "Longitude     0\n",
              "Latitude      0\n",
              "Speed         0\n",
              "Operator      0\n",
              "CellID        0\n",
              "LAC           0\n",
              "LTERSSI       0\n",
              "RSRP          0\n",
              "RSRQ          0\n",
              "SNR           0\n",
              "DL_bitrate    0\n",
              "UL_bitrate    0\n",
              "dtype: int64"
            ]
          },
          "metadata": {},
          "execution_count": 114
        }
      ]
    },
    {
      "cell_type": "code",
      "source": [
        "data_trip_9am_4.isnull().sum()"
      ],
      "metadata": {
        "colab": {
          "base_uri": "https://localhost:8080/"
        },
        "id": "MHuDjk9cDHJQ",
        "outputId": "5b0c035c-0d5b-4781-bb26-f39013c12975"
      },
      "execution_count": null,
      "outputs": [
        {
          "output_type": "execute_result",
          "data": {
            "text/plain": [
              "Timestamp     0\n",
              "Longitude     0\n",
              "Latitude      0\n",
              "Speed         0\n",
              "Operator      0\n",
              "CellID        0\n",
              "LAC           0\n",
              "LTERSSI       0\n",
              "RSRP          0\n",
              "RSRQ          0\n",
              "SNR           0\n",
              "DL_bitrate    0\n",
              "UL_bitrate    0\n",
              "dtype: int64"
            ]
          },
          "metadata": {},
          "execution_count": 115
        }
      ]
    },
    {
      "cell_type": "code",
      "source": [
        "data_trip_12pm_1.isnull().sum()"
      ],
      "metadata": {
        "colab": {
          "base_uri": "https://localhost:8080/"
        },
        "id": "vpxrAP7HDJfy",
        "outputId": "e6245ee2-e763-4111-b01b-98c964129d68"
      },
      "execution_count": null,
      "outputs": [
        {
          "output_type": "execute_result",
          "data": {
            "text/plain": [
              "Timestamp     0\n",
              "Longitude     0\n",
              "Latitude      0\n",
              "Speed         0\n",
              "Operator      0\n",
              "CellID        0\n",
              "LAC           0\n",
              "LTERSSI       0\n",
              "RSRP          0\n",
              "RSRQ          0\n",
              "SNR           0\n",
              "DL_bitrate    0\n",
              "UL_bitrate    0\n",
              "dtype: int64"
            ]
          },
          "metadata": {},
          "execution_count": 116
        }
      ]
    },
    {
      "cell_type": "code",
      "source": [
        "data_trip_12pm_2.isnull().sum()"
      ],
      "metadata": {
        "colab": {
          "base_uri": "https://localhost:8080/"
        },
        "id": "ULt7wL63DSmI",
        "outputId": "acb03529-c61c-46be-9d28-9011790db145"
      },
      "execution_count": null,
      "outputs": [
        {
          "output_type": "execute_result",
          "data": {
            "text/plain": [
              "Timestamp     0\n",
              "Longitude     0\n",
              "Latitude      0\n",
              "Speed         0\n",
              "Operator      0\n",
              "CellID        0\n",
              "LAC           0\n",
              "LTERSSI       0\n",
              "RSRP          0\n",
              "RSRQ          0\n",
              "SNR           0\n",
              "DL_bitrate    0\n",
              "UL_bitrate    0\n",
              "dtype: int64"
            ]
          },
          "metadata": {},
          "execution_count": 117
        }
      ]
    },
    {
      "cell_type": "code",
      "source": [
        "data_trip_12pm_3.isnull().sum()"
      ],
      "metadata": {
        "colab": {
          "base_uri": "https://localhost:8080/"
        },
        "id": "bKYzts2EDWbS",
        "outputId": "541f7d45-b378-4d85-ce50-1da59a7fefd5"
      },
      "execution_count": null,
      "outputs": [
        {
          "output_type": "execute_result",
          "data": {
            "text/plain": [
              "Timestamp     0\n",
              "Longitude     0\n",
              "Latitude      0\n",
              "Speed         0\n",
              "Operator      0\n",
              "CellID        0\n",
              "LAC           0\n",
              "LTERSSI       0\n",
              "RSRP          0\n",
              "RSRQ          0\n",
              "SNR           0\n",
              "DL_bitrate    0\n",
              "UL_bitrate    0\n",
              "dtype: int64"
            ]
          },
          "metadata": {},
          "execution_count": 118
        }
      ]
    },
    {
      "cell_type": "code",
      "source": [
        "data_trip_12pm_4.isnull().sum()"
      ],
      "metadata": {
        "colab": {
          "base_uri": "https://localhost:8080/"
        },
        "id": "vMZUymR7DYTz",
        "outputId": "2d0dc6e7-df5a-4128-8b9f-b4d76ea1e6a8"
      },
      "execution_count": null,
      "outputs": [
        {
          "output_type": "execute_result",
          "data": {
            "text/plain": [
              "Timestamp     0\n",
              "Longitude     0\n",
              "Latitude      0\n",
              "Speed         0\n",
              "Operator      0\n",
              "CellID        0\n",
              "LAC           0\n",
              "LTERSSI       0\n",
              "RSRP          0\n",
              "RSRQ          0\n",
              "SNR           0\n",
              "DL_bitrate    0\n",
              "UL_bitrate    0\n",
              "dtype: int64"
            ]
          },
          "metadata": {},
          "execution_count": 119
        }
      ]
    },
    {
      "cell_type": "code",
      "source": [
        "data_trip_6pm_1.isnull().sum()"
      ],
      "metadata": {
        "colab": {
          "base_uri": "https://localhost:8080/"
        },
        "id": "tsJmQwQcDabR",
        "outputId": "cd85a248-498e-47c7-edda-52037cc288af"
      },
      "execution_count": null,
      "outputs": [
        {
          "output_type": "execute_result",
          "data": {
            "text/plain": [
              "Timestamp     0\n",
              "Longitude     0\n",
              "Latitude      0\n",
              "Speed         0\n",
              "Operator      0\n",
              "CellID        0\n",
              "LAC           0\n",
              "LTERSSI       0\n",
              "RSRP          0\n",
              "RSRQ          0\n",
              "SNR           0\n",
              "DL_bitrate    0\n",
              "UL_bitrate    0\n",
              "dtype: int64"
            ]
          },
          "metadata": {},
          "execution_count": 120
        }
      ]
    },
    {
      "cell_type": "code",
      "source": [
        "data_trip_6pm_2.isnull().sum()"
      ],
      "metadata": {
        "colab": {
          "base_uri": "https://localhost:8080/"
        },
        "id": "d_FjWRuKDgi0",
        "outputId": "8e0f3e63-dcc1-4bc0-b059-b313c1e74778"
      },
      "execution_count": null,
      "outputs": [
        {
          "output_type": "execute_result",
          "data": {
            "text/plain": [
              "Timestamp     0\n",
              "Longitude     0\n",
              "Latitude      0\n",
              "Speed         0\n",
              "Operator      0\n",
              "CellID        0\n",
              "LAC           0\n",
              "LTERSSI       0\n",
              "RSRP          0\n",
              "RSRQ          0\n",
              "SNR           0\n",
              "DL_bitrate    0\n",
              "UL_bitrate    0\n",
              "dtype: int64"
            ]
          },
          "metadata": {},
          "execution_count": 121
        }
      ]
    },
    {
      "cell_type": "code",
      "source": [
        "data_trip_6pm_3.isnull().sum()"
      ],
      "metadata": {
        "colab": {
          "base_uri": "https://localhost:8080/"
        },
        "id": "Vkw4kn1WDipB",
        "outputId": "8f1e61f8-19cf-44ee-e01f-9c0df1b07c85"
      },
      "execution_count": null,
      "outputs": [
        {
          "output_type": "execute_result",
          "data": {
            "text/plain": [
              "Timestamp     0\n",
              "Longitude     0\n",
              "Latitude      0\n",
              "Speed         0\n",
              "Operator      0\n",
              "CellID        0\n",
              "LAC           0\n",
              "LTERSSI       0\n",
              "RSRP          0\n",
              "RSRQ          0\n",
              "SNR           0\n",
              "DL_bitrate    0\n",
              "UL_bitrate    0\n",
              "dtype: int64"
            ]
          },
          "metadata": {},
          "execution_count": 122
        }
      ]
    },
    {
      "cell_type": "code",
      "source": [
        "data_trip_6pm_4.isnull().sum()"
      ],
      "metadata": {
        "colab": {
          "base_uri": "https://localhost:8080/"
        },
        "id": "qorvCvyYDky9",
        "outputId": "9ee31a20-ffcc-4fea-d6b9-5b066f389545"
      },
      "execution_count": null,
      "outputs": [
        {
          "output_type": "execute_result",
          "data": {
            "text/plain": [
              "Timestamp     0\n",
              "Longitude     0\n",
              "Latitude      0\n",
              "Speed         0\n",
              "Operator      0\n",
              "CellID        0\n",
              "LAC           0\n",
              "LTERSSI       0\n",
              "RSRP          0\n",
              "RSRQ          0\n",
              "SNR           0\n",
              "DL_bitrate    0\n",
              "UL_bitrate    0\n",
              "dtype: int64"
            ]
          },
          "metadata": {},
          "execution_count": 123
        }
      ]
    },
    {
      "cell_type": "markdown",
      "source": [
        "Kesimpulan : Tidak ada null values pada Dataset Penelitian"
      ],
      "metadata": {
        "id": "BV-0N3tkeGyx"
      }
    },
    {
      "cell_type": "markdown",
      "source": [
        "### Outliers"
      ],
      "metadata": {
        "id": "68gupLhxEDWz"
      }
    },
    {
      "cell_type": "code",
      "source": [
        "#Finding Outliers\n",
        "\n",
        "import matplotlib.pyplot as plt\n",
        "plt.boxplot(data_trip_9am_1['DL_bitrate'])\n",
        "plt.show"
      ],
      "metadata": {
        "colab": {
          "base_uri": "https://localhost:8080/"
        },
        "id": "iY8JBwzjEFrS",
        "outputId": "e72dfbc5-527d-47ce-e77a-a2ceb407fcd7"
      },
      "execution_count": null,
      "outputs": [
        {
          "output_type": "execute_result",
          "data": {
            "text/plain": [
              "<function matplotlib.pyplot.show>"
            ]
          },
          "metadata": {},
          "execution_count": 124
        },
        {
          "output_type": "display_data",
          "data": {
            "image/png": "[encoded data removed]",
            "text/plain": [
              "<Figure size 432x288 with 1 Axes>"
            ]
          },
          "metadata": {
            "needs_background": "light"
          }
        }
      ]
    },
    {
      "cell_type": "code",
      "source": [
        "Q1_9am_1_dl_bitrate = data_trip_9am_1['DL_bitrate'].quantile(0.25)\n",
        "Q3_9am_1_dl_bitrate = data_trip_9am_1['DL_bitrate'].quantile(0.75)\n",
        "IQR_9am_1_dl_bitrate = Q3_9am_1_dl_bitrate-Q1_9am_1_dl_bitrate\n",
        "lower_bound_9am_1_dl_bitrate = Q1_9am_1_dl_bitrate-1.5*IQR_9am_1_dl_bitrate\n",
        "upper_bound_9am_1_dl_bitrate = Q3_9am_1_dl_bitrate+1.5*IQR_9am_1_dl_bitrate"
      ],
      "metadata": {
        "id": "n5PGGBRIt5xD"
      },
      "execution_count": null,
      "outputs": []
    },
    {
      "cell_type": "code",
      "source": [
        "outliers_1_9am_dl_bitrate = data_trip_9am_1[data_trip_9am_1['DL_bitrate']>upper_bound_9am_1_dl_bitrate]\n",
        "outliers_1_9am_dl_bitrate"
      ],
      "metadata": {
        "colab": {
          "base_uri": "https://localhost:8080/"
        },
        "id": "iqfRKELXwKpD",
        "outputId": "0364c7e8-6474-4f5d-fb12-0df7418a4dd7"
      },
      "execution_count": null,
      "outputs": [
        {
          "output_type": "execute_result",
          "data": {
            "text/html": [
              "<div>\n",
              "<style scoped>\n",
              "    .dataframe tbody tr th:only-of-type {\n",
              "        vertical-align: middle;\n",
              "    }\n",
              "\n",
              "    .dataframe tbody tr th {\n",
              "        vertical-align: top;\n",
              "    }\n",
              "\n",
              "    .dataframe thead th {\n",
              "        text-align: right;\n",
              "    }\n",
              "</style>\n",
              "<table border=\"1\" class=\"dataframe\">\n",
              "  <thead>\n",
              "    <tr style=\"text-align: right;\">\n",
              "      <th></th>\n",
              "      <th>Timestamp</th>\n",
              "      <th>Longitude</th>\n",
              "      <th>Latitude</th>\n",
              "      <th>Speed</th>\n",
              "      <th>Operator</th>\n",
              "      <th>CellID</th>\n",
              "      <th>LAC</th>\n",
              "      <th>LTERSSI</th>\n",
              "      <th>RSRP</th>\n",
              "      <th>RSRQ</th>\n",
              "      <th>SNR</th>\n",
              "      <th>DL_bitrate</th>\n",
              "      <th>UL_bitrate</th>\n",
              "    </tr>\n",
              "  </thead>\n",
              "  <tbody>\n",
              "  </tbody>\n",
              "</table>\n",
              "</div>"
            ],
            "text/plain": [
              "Empty DataFrame\n",
              "Columns: [Timestamp, Longitude, Latitude, Speed, Operator, CellID, LAC, LTERSSI, RSRP, RSRQ, SNR, DL_bitrate, UL_bitrate]\n",
              "Index: []"
            ]
          },
          "metadata": {},
          "execution_count": 126
        }
      ]
    },
    {
      "cell_type": "code",
      "source": [
        "data_trip_9am_1.head()"
      ],
      "metadata": {
        "colab": {
          "base_uri": "https://localhost:8080/"
        },
        "id": "UvYch3mUw-Nz",
        "outputId": "69d031e0-2b62-4dd7-f14d-f061030504d7"
      },
      "execution_count": null,
      "outputs": [
        {
          "output_type": "execute_result",
          "data": {
            "text/html": [
              "<div>\n",
              "<style scoped>\n",
              "    .dataframe tbody tr th:only-of-type {\n",
              "        vertical-align: middle;\n",
              "    }\n",
              "\n",
              "    .dataframe tbody tr th {\n",
              "        vertical-align: top;\n",
              "    }\n",
              "\n",
              "    .dataframe thead th {\n",
              "        text-align: right;\n",
              "    }\n",
              "</style>\n",
              "<table border=\"1\" class=\"dataframe\">\n",
              "  <thead>\n",
              "    <tr style=\"text-align: right;\">\n",
              "      <th></th>\n",
              "      <th>Timestamp</th>\n",
              "      <th>Longitude</th>\n",
              "      <th>Latitude</th>\n",
              "      <th>Speed</th>\n",
              "      <th>Operator</th>\n",
              "      <th>CellID</th>\n",
              "      <th>LAC</th>\n",
              "      <th>LTERSSI</th>\n",
              "      <th>RSRP</th>\n",
              "      <th>RSRQ</th>\n",
              "      <th>SNR</th>\n",
              "      <th>DL_bitrate</th>\n",
              "      <th>UL_bitrate</th>\n",
              "    </tr>\n",
              "  </thead>\n",
              "  <tbody>\n",
              "    <tr>\n",
              "      <th>0</th>\n",
              "      <td>2019-12-05 09:02:32</td>\n",
              "      <td>-76.49136</td>\n",
              "      <td>44.232045</td>\n",
              "      <td>36</td>\n",
              "      <td>302610</td>\n",
              "      <td>1</td>\n",
              "      <td>56009</td>\n",
              "      <td>-66</td>\n",
              "      <td>-84</td>\n",
              "      <td>-7</td>\n",
              "      <td>10.8</td>\n",
              "      <td>21</td>\n",
              "      <td>1231</td>\n",
              "    </tr>\n",
              "    <tr>\n",
              "      <th>1</th>\n",
              "      <td>2019-12-05 09:02:32</td>\n",
              "      <td>-76.49136</td>\n",
              "      <td>44.232045</td>\n",
              "      <td>36</td>\n",
              "      <td>302610</td>\n",
              "      <td>1</td>\n",
              "      <td>56009</td>\n",
              "      <td>-66</td>\n",
              "      <td>-84</td>\n",
              "      <td>-7</td>\n",
              "      <td>10.8</td>\n",
              "      <td>7651</td>\n",
              "      <td>3799</td>\n",
              "    </tr>\n",
              "    <tr>\n",
              "      <th>2</th>\n",
              "      <td>2019-12-05 09:02:33</td>\n",
              "      <td>-76.49147</td>\n",
              "      <td>44.232058</td>\n",
              "      <td>36</td>\n",
              "      <td>302610</td>\n",
              "      <td>1</td>\n",
              "      <td>56009</td>\n",
              "      <td>-66</td>\n",
              "      <td>-84</td>\n",
              "      <td>-7</td>\n",
              "      <td>7.2</td>\n",
              "      <td>7651</td>\n",
              "      <td>3799</td>\n",
              "    </tr>\n",
              "    <tr>\n",
              "      <th>3</th>\n",
              "      <td>2019-12-05 09:02:33</td>\n",
              "      <td>-76.49147</td>\n",
              "      <td>44.232058</td>\n",
              "      <td>36</td>\n",
              "      <td>302610</td>\n",
              "      <td>1</td>\n",
              "      <td>56009</td>\n",
              "      <td>-66</td>\n",
              "      <td>-94</td>\n",
              "      <td>-16</td>\n",
              "      <td>7.2</td>\n",
              "      <td>10017</td>\n",
              "      <td>448</td>\n",
              "    </tr>\n",
              "    <tr>\n",
              "      <th>4</th>\n",
              "      <td>2019-12-05 09:02:34</td>\n",
              "      <td>-76.49160</td>\n",
              "      <td>44.232078</td>\n",
              "      <td>39</td>\n",
              "      <td>302610</td>\n",
              "      <td>1</td>\n",
              "      <td>56009</td>\n",
              "      <td>-66</td>\n",
              "      <td>-94</td>\n",
              "      <td>-16</td>\n",
              "      <td>5.4</td>\n",
              "      <td>10017</td>\n",
              "      <td>448</td>\n",
              "    </tr>\n",
              "  </tbody>\n",
              "</table>\n",
              "</div>"
            ],
            "text/plain": [
              "             Timestamp  Longitude   Latitude  ...   SNR  DL_bitrate  UL_bitrate\n",
              "0  2019-12-05 09:02:32  -76.49136  44.232045  ...  10.8          21        1231\n",
              "1  2019-12-05 09:02:32  -76.49136  44.232045  ...  10.8        7651        3799\n",
              "2  2019-12-05 09:02:33  -76.49147  44.232058  ...   7.2        7651        3799\n",
              "3  2019-12-05 09:02:33  -76.49147  44.232058  ...   7.2       10017         448\n",
              "4  2019-12-05 09:02:34  -76.49160  44.232078  ...   5.4       10017         448\n",
              "\n",
              "[5 rows x 13 columns]"
            ]
          },
          "metadata": {},
          "execution_count": 127
        }
      ]
    },
    {
      "cell_type": "code",
      "source": [
        "data_trip_9am_1.info()"
      ],
      "metadata": {
        "colab": {
          "base_uri": "https://localhost:8080/"
        },
        "id": "xLUX6-52O--5",
        "outputId": "732e8433-a799-4daf-ae8d-3ba293cc17c4"
      },
      "execution_count": null,
      "outputs": [
        {
          "output_type": "stream",
          "name": "stdout",
          "text": [
            "<class 'pandas.core.frame.DataFrame'>\n",
            "RangeIndex: 7292 entries, 0 to 7291\n",
            "Data columns (total 13 columns):\n",
            " #   Column      Non-Null Count  Dtype  \n",
            "---  ------      --------------  -----  \n",
            " 0   Timestamp   7292 non-null   object \n",
            " 1   Longitude   7292 non-null   float64\n",
            " 2   Latitude    7292 non-null   float64\n",
            " 3   Speed       7292 non-null   int64  \n",
            " 4   Operator    7292 non-null   int64  \n",
            " 5   CellID      7292 non-null   int64  \n",
            " 6   LAC         7292 non-null   int64  \n",
            " 7   LTERSSI     7292 non-null   int64  \n",
            " 8   RSRP        7292 non-null   int64  \n",
            " 9   RSRQ        7292 non-null   int64  \n",
            " 10  SNR         7292 non-null   float64\n",
            " 11  DL_bitrate  7292 non-null   int64  \n",
            " 12  UL_bitrate  7292 non-null   int64  \n",
            "dtypes: float64(3), int64(9), object(1)\n",
            "memory usage: 740.7+ KB\n"
          ]
        }
      ]
    },
    {
      "cell_type": "code",
      "source": [
        "data_trip_9am_2.head()"
      ],
      "metadata": {
        "colab": {
          "base_uri": "https://localhost:8080/"
        },
        "id": "WTK6TQbePCRB",
        "outputId": "40d04368-7d68-4b6b-c374-6f03fb3af9e7"
      },
      "execution_count": null,
      "outputs": [
        {
          "output_type": "execute_result",
          "data": {
            "text/html": [
              "<div>\n",
              "<style scoped>\n",
              "    .dataframe tbody tr th:only-of-type {\n",
              "        vertical-align: middle;\n",
              "    }\n",
              "\n",
              "    .dataframe tbody tr th {\n",
              "        vertical-align: top;\n",
              "    }\n",
              "\n",
              "    .dataframe thead th {\n",
              "        text-align: right;\n",
              "    }\n",
              "</style>\n",
              "<table border=\"1\" class=\"dataframe\">\n",
              "  <thead>\n",
              "    <tr style=\"text-align: right;\">\n",
              "      <th></th>\n",
              "      <th>Timestamp</th>\n",
              "      <th>Longitude</th>\n",
              "      <th>Latitude</th>\n",
              "      <th>Speed</th>\n",
              "      <th>Operator</th>\n",
              "      <th>CellID</th>\n",
              "      <th>LAC</th>\n",
              "      <th>LTERSSI</th>\n",
              "      <th>RSRP</th>\n",
              "      <th>RSRQ</th>\n",
              "      <th>SNR</th>\n",
              "      <th>DL_bitrate</th>\n",
              "      <th>UL_bitrate</th>\n",
              "    </tr>\n",
              "  </thead>\n",
              "  <tbody>\n",
              "    <tr>\n",
              "      <th>0</th>\n",
              "      <td>2019-12-03 09:03:17</td>\n",
              "      <td>-76.49137</td>\n",
              "      <td>44.231985</td>\n",
              "      <td>0</td>\n",
              "      <td>302610</td>\n",
              "      <td>1</td>\n",
              "      <td>56009</td>\n",
              "      <td>-67</td>\n",
              "      <td>-92</td>\n",
              "      <td>-15</td>\n",
              "      <td>7.0</td>\n",
              "      <td>181</td>\n",
              "      <td>8463</td>\n",
              "    </tr>\n",
              "    <tr>\n",
              "      <th>1</th>\n",
              "      <td>2019-12-03 09:03:18</td>\n",
              "      <td>-76.49139</td>\n",
              "      <td>44.231985</td>\n",
              "      <td>1</td>\n",
              "      <td>302610</td>\n",
              "      <td>1</td>\n",
              "      <td>56009</td>\n",
              "      <td>-66</td>\n",
              "      <td>-92</td>\n",
              "      <td>-15</td>\n",
              "      <td>5.6</td>\n",
              "      <td>181</td>\n",
              "      <td>8463</td>\n",
              "    </tr>\n",
              "    <tr>\n",
              "      <th>2</th>\n",
              "      <td>2019-12-03 09:03:18</td>\n",
              "      <td>-76.49139</td>\n",
              "      <td>44.231985</td>\n",
              "      <td>1</td>\n",
              "      <td>302610</td>\n",
              "      <td>1</td>\n",
              "      <td>56009</td>\n",
              "      <td>-66</td>\n",
              "      <td>-90</td>\n",
              "      <td>-14</td>\n",
              "      <td>5.6</td>\n",
              "      <td>12471</td>\n",
              "      <td>431</td>\n",
              "    </tr>\n",
              "    <tr>\n",
              "      <th>3</th>\n",
              "      <td>2019-12-03 09:03:19</td>\n",
              "      <td>-76.49143</td>\n",
              "      <td>44.231994</td>\n",
              "      <td>11</td>\n",
              "      <td>302610</td>\n",
              "      <td>1</td>\n",
              "      <td>56009</td>\n",
              "      <td>-66</td>\n",
              "      <td>-90</td>\n",
              "      <td>-14</td>\n",
              "      <td>5.6</td>\n",
              "      <td>12471</td>\n",
              "      <td>431</td>\n",
              "    </tr>\n",
              "    <tr>\n",
              "      <th>4</th>\n",
              "      <td>2019-12-03 09:03:19</td>\n",
              "      <td>-76.49143</td>\n",
              "      <td>44.231994</td>\n",
              "      <td>11</td>\n",
              "      <td>302610</td>\n",
              "      <td>1</td>\n",
              "      <td>56009</td>\n",
              "      <td>-66</td>\n",
              "      <td>-90</td>\n",
              "      <td>-14</td>\n",
              "      <td>5.6</td>\n",
              "      <td>11670</td>\n",
              "      <td>448</td>\n",
              "    </tr>\n",
              "  </tbody>\n",
              "</table>\n",
              "</div>"
            ],
            "text/plain": [
              "             Timestamp  Longitude   Latitude  ...  SNR  DL_bitrate  UL_bitrate\n",
              "0  2019-12-03 09:03:17  -76.49137  44.231985  ...  7.0         181        8463\n",
              "1  2019-12-03 09:03:18  -76.49139  44.231985  ...  5.6         181        8463\n",
              "2  2019-12-03 09:03:18  -76.49139  44.231985  ...  5.6       12471         431\n",
              "3  2019-12-03 09:03:19  -76.49143  44.231994  ...  5.6       12471         431\n",
              "4  2019-12-03 09:03:19  -76.49143  44.231994  ...  5.6       11670         448\n",
              "\n",
              "[5 rows x 13 columns]"
            ]
          },
          "metadata": {},
          "execution_count": 129
        }
      ]
    },
    {
      "cell_type": "code",
      "source": [
        "Q1_9am_1_rssi = data_trip_9am_1['LTERSSI'].quantile(0.25)\n",
        "Q3_9am_1_rssi = data_trip_9am_1['LTERSSI'].quantile(0.75)\n",
        "IQR_9am_1_rssi = Q3_9am_1_rssi-Q1_9am_1_rssi\n",
        "lower_bound_9am_1_rssi = Q1_9am_1_rssi-1.5*IQR_9am_1_rssi\n",
        "upper_bound_9am_1_rssi = Q3_9am_1_rssi+1.5*IQR_9am_1_rssi"
      ],
      "metadata": {
        "id": "zEgoPJEDPUN3"
      },
      "execution_count": null,
      "outputs": []
    },
    {
      "cell_type": "code",
      "source": [
        "outliers_1_9am_rssi = data_trip_9am_1[data_trip_9am_1['LTERSSI']>upper_bound_9am_1_rssi]\n",
        "outliers_1_9am_rssi"
      ],
      "metadata": {
        "colab": {
          "base_uri": "https://localhost:8080/"
        },
        "id": "3-IFqvSV-uln",
        "outputId": "e2788eaf-f268-4024-9774-3c67cf98b426"
      },
      "execution_count": null,
      "outputs": [
        {
          "output_type": "execute_result",
          "data": {
            "text/html": [
              "<div>\n",
              "<style scoped>\n",
              "    .dataframe tbody tr th:only-of-type {\n",
              "        vertical-align: middle;\n",
              "    }\n",
              "\n",
              "    .dataframe tbody tr th {\n",
              "        vertical-align: top;\n",
              "    }\n",
              "\n",
              "    .dataframe thead th {\n",
              "        text-align: right;\n",
              "    }\n",
              "</style>\n",
              "<table border=\"1\" class=\"dataframe\">\n",
              "  <thead>\n",
              "    <tr style=\"text-align: right;\">\n",
              "      <th></th>\n",
              "      <th>Timestamp</th>\n",
              "      <th>Longitude</th>\n",
              "      <th>Latitude</th>\n",
              "      <th>Speed</th>\n",
              "      <th>Operator</th>\n",
              "      <th>CellID</th>\n",
              "      <th>LAC</th>\n",
              "      <th>LTERSSI</th>\n",
              "      <th>RSRP</th>\n",
              "      <th>RSRQ</th>\n",
              "      <th>SNR</th>\n",
              "      <th>DL_bitrate</th>\n",
              "      <th>UL_bitrate</th>\n",
              "    </tr>\n",
              "  </thead>\n",
              "  <tbody>\n",
              "  </tbody>\n",
              "</table>\n",
              "</div>"
            ],
            "text/plain": [
              "Empty DataFrame\n",
              "Columns: [Timestamp, Longitude, Latitude, Speed, Operator, CellID, LAC, LTERSSI, RSRP, RSRQ, SNR, DL_bitrate, UL_bitrate]\n",
              "Index: []"
            ]
          },
          "metadata": {},
          "execution_count": 131
        }
      ]
    },
    {
      "cell_type": "code",
      "source": [
        "Q1_9am_1_rsrp = data_trip_9am_1['RSRP'].quantile(0.25)\n",
        "Q3_9am_1_rsrp = data_trip_9am_1['RSRP'].quantile(0.75)\n",
        "IQR_9am_1_rsrp = Q3_9am_1_rsrp-Q1_9am_1_rsrp\n",
        "lower_bound_9am_1_rsrp = Q1_9am_1_rsrp-1.5*IQR_9am_1_rsrp\n",
        "upper_bound_9am_1_rsrp = Q3_9am_1_rsrp+1.5*IQR_9am_1_rsrp"
      ],
      "metadata": {
        "id": "GDv6lTrj-5uW"
      },
      "execution_count": null,
      "outputs": []
    },
    {
      "cell_type": "code",
      "source": [
        "outliers_1_9am_rsrp = data_trip_9am_1[data_trip_9am_1['RSRP']>upper_bound_9am_1_rsrp]\n",
        "outliers_1_9am_rsrp"
      ],
      "metadata": {
        "colab": {
          "base_uri": "https://localhost:8080/"
        },
        "id": "or5P6KTH_s_h",
        "outputId": "f8cfbaac-2c55-4520-9584-1cee5b214312"
      },
      "execution_count": null,
      "outputs": [
        {
          "output_type": "execute_result",
          "data": {
            "text/html": [
              "<div>\n",
              "<style scoped>\n",
              "    .dataframe tbody tr th:only-of-type {\n",
              "        vertical-align: middle;\n",
              "    }\n",
              "\n",
              "    .dataframe tbody tr th {\n",
              "        vertical-align: top;\n",
              "    }\n",
              "\n",
              "    .dataframe thead th {\n",
              "        text-align: right;\n",
              "    }\n",
              "</style>\n",
              "<table border=\"1\" class=\"dataframe\">\n",
              "  <thead>\n",
              "    <tr style=\"text-align: right;\">\n",
              "      <th></th>\n",
              "      <th>Timestamp</th>\n",
              "      <th>Longitude</th>\n",
              "      <th>Latitude</th>\n",
              "      <th>Speed</th>\n",
              "      <th>Operator</th>\n",
              "      <th>CellID</th>\n",
              "      <th>LAC</th>\n",
              "      <th>LTERSSI</th>\n",
              "      <th>RSRP</th>\n",
              "      <th>RSRQ</th>\n",
              "      <th>SNR</th>\n",
              "      <th>DL_bitrate</th>\n",
              "      <th>UL_bitrate</th>\n",
              "    </tr>\n",
              "  </thead>\n",
              "  <tbody>\n",
              "  </tbody>\n",
              "</table>\n",
              "</div>"
            ],
            "text/plain": [
              "Empty DataFrame\n",
              "Columns: [Timestamp, Longitude, Latitude, Speed, Operator, CellID, LAC, LTERSSI, RSRP, RSRQ, SNR, DL_bitrate, UL_bitrate]\n",
              "Index: []"
            ]
          },
          "metadata": {},
          "execution_count": 133
        }
      ]
    },
    {
      "cell_type": "code",
      "source": [
        "Q1_9am_1_rsrq = data_trip_9am_1['RSRQ'].quantile(0.25)\n",
        "Q3_9am_1_rsrq = data_trip_9am_1['RSRQ'].quantile(0.75)\n",
        "IQR_9am_1_rsrq = Q3_9am_1_rsrq-Q1_9am_1_rsrq\n",
        "lower_bound_9am_1_rsrq = Q1_9am_1_rsrq-1.5*IQR_9am_1_rsrq\n",
        "upper_bound_9am_1_rsrq = Q3_9am_1_rsrq+1.5*IQR_9am_1_rsrq"
      ],
      "metadata": {
        "id": "-O3dqD-8_0m8"
      },
      "execution_count": null,
      "outputs": []
    },
    {
      "cell_type": "code",
      "source": [
        "outliers_1_9am_rsrq = data_trip_9am_1[data_trip_9am_1['RSRQ']>upper_bound_9am_1_rsrq]\n",
        "outliers_1_9am_rsrq\n",
        "# kalau ada outlier seperti ini perlu dibuang atau tidak?"
      ],
      "metadata": {
        "colab": {
          "base_uri": "https://localhost:8080/"
        },
        "id": "jPH0qRvwWK2j",
        "outputId": "a0ddf843-6eab-46a5-9dfa-8aaff1b897ec"
      },
      "execution_count": null,
      "outputs": [
        {
          "output_type": "execute_result",
          "data": {
            "text/html": [
              "<div>\n",
              "<style scoped>\n",
              "    .dataframe tbody tr th:only-of-type {\n",
              "        vertical-align: middle;\n",
              "    }\n",
              "\n",
              "    .dataframe tbody tr th {\n",
              "        vertical-align: top;\n",
              "    }\n",
              "\n",
              "    .dataframe thead th {\n",
              "        text-align: right;\n",
              "    }\n",
              "</style>\n",
              "<table border=\"1\" class=\"dataframe\">\n",
              "  <thead>\n",
              "    <tr style=\"text-align: right;\">\n",
              "      <th></th>\n",
              "      <th>Timestamp</th>\n",
              "      <th>Longitude</th>\n",
              "      <th>Latitude</th>\n",
              "      <th>Speed</th>\n",
              "      <th>Operator</th>\n",
              "      <th>CellID</th>\n",
              "      <th>LAC</th>\n",
              "      <th>LTERSSI</th>\n",
              "      <th>RSRP</th>\n",
              "      <th>RSRQ</th>\n",
              "      <th>SNR</th>\n",
              "      <th>DL_bitrate</th>\n",
              "      <th>UL_bitrate</th>\n",
              "    </tr>\n",
              "  </thead>\n",
              "  <tbody>\n",
              "    <tr>\n",
              "      <th>5301</th>\n",
              "      <td>2019-12-05 09:39:35</td>\n",
              "      <td>-76.56940</td>\n",
              "      <td>44.218821</td>\n",
              "      <td>22</td>\n",
              "      <td>302610</td>\n",
              "      <td>3</td>\n",
              "      <td>56009</td>\n",
              "      <td>-63</td>\n",
              "      <td>-73</td>\n",
              "      <td>-6</td>\n",
              "      <td>20.4</td>\n",
              "      <td>144</td>\n",
              "      <td>6214</td>\n",
              "    </tr>\n",
              "    <tr>\n",
              "      <th>5302</th>\n",
              "      <td>2019-12-05 09:39:36</td>\n",
              "      <td>-76.56940</td>\n",
              "      <td>44.218821</td>\n",
              "      <td>22</td>\n",
              "      <td>302610</td>\n",
              "      <td>3</td>\n",
              "      <td>56009</td>\n",
              "      <td>-63</td>\n",
              "      <td>-73</td>\n",
              "      <td>-6</td>\n",
              "      <td>21.0</td>\n",
              "      <td>144</td>\n",
              "      <td>6214</td>\n",
              "    </tr>\n",
              "    <tr>\n",
              "      <th>5303</th>\n",
              "      <td>2019-12-05 09:39:36</td>\n",
              "      <td>-76.56939</td>\n",
              "      <td>44.218741</td>\n",
              "      <td>30</td>\n",
              "      <td>302610</td>\n",
              "      <td>3</td>\n",
              "      <td>56009</td>\n",
              "      <td>-63</td>\n",
              "      <td>-73</td>\n",
              "      <td>-6</td>\n",
              "      <td>21.0</td>\n",
              "      <td>144</td>\n",
              "      <td>6214</td>\n",
              "    </tr>\n",
              "    <tr>\n",
              "      <th>5304</th>\n",
              "      <td>2019-12-05 09:39:36</td>\n",
              "      <td>-76.56939</td>\n",
              "      <td>44.218741</td>\n",
              "      <td>30</td>\n",
              "      <td>302610</td>\n",
              "      <td>3</td>\n",
              "      <td>56009</td>\n",
              "      <td>-63</td>\n",
              "      <td>-73</td>\n",
              "      <td>-6</td>\n",
              "      <td>21.0</td>\n",
              "      <td>7</td>\n",
              "      <td>473</td>\n",
              "    </tr>\n",
              "    <tr>\n",
              "      <th>5305</th>\n",
              "      <td>2019-12-05 09:39:37</td>\n",
              "      <td>-76.56939</td>\n",
              "      <td>44.218677</td>\n",
              "      <td>25</td>\n",
              "      <td>302610</td>\n",
              "      <td>3</td>\n",
              "      <td>56009</td>\n",
              "      <td>-63</td>\n",
              "      <td>-73</td>\n",
              "      <td>-6</td>\n",
              "      <td>21.0</td>\n",
              "      <td>7</td>\n",
              "      <td>473</td>\n",
              "    </tr>\n",
              "  </tbody>\n",
              "</table>\n",
              "</div>"
            ],
            "text/plain": [
              "                Timestamp  Longitude   Latitude  ...   SNR  DL_bitrate  UL_bitrate\n",
              "5301  2019-12-05 09:39:35  -76.56940  44.218821  ...  20.4         144        6214\n",
              "5302  2019-12-05 09:39:36  -76.56940  44.218821  ...  21.0         144        6214\n",
              "5303  2019-12-05 09:39:36  -76.56939  44.218741  ...  21.0         144        6214\n",
              "5304  2019-12-05 09:39:36  -76.56939  44.218741  ...  21.0           7         473\n",
              "5305  2019-12-05 09:39:37  -76.56939  44.218677  ...  21.0           7         473\n",
              "\n",
              "[5 rows x 13 columns]"
            ]
          },
          "metadata": {},
          "execution_count": 135
        }
      ]
    },
    {
      "cell_type": "markdown",
      "source": [
        "Kesimpulan : Dilakukan pencarian outlier hanya pada data \"data_trip_9am_1\" pada data yang bertipe numerik saja, ditemukan outliers pada kolom \"RSRQ\" dimana terdapat 5 baris data merupakan outlier\n",
        "\n",
        "Pertanyaan : Apakah data outlier tersebut perlu dibuang atau tidak perlu mengingat target kita hanya kolom \"DL_bitrate\" saja"
      ],
      "metadata": {
        "id": "FxxEq3Dceao9"
      }
    },
    {
      "cell_type": "code",
      "source": [
        "plt.boxplot(data_trip_9am_1['RSRQ'])\n",
        "plt.show"
      ],
      "metadata": {
        "colab": {
          "base_uri": "https://localhost:8080/"
        },
        "id": "ivCtk0DzWQ-1",
        "outputId": "deb8cc66-b3b1-41ff-d63b-0675cd5a6aa6"
      },
      "execution_count": null,
      "outputs": [
        {
          "output_type": "execute_result",
          "data": {
            "text/plain": [
              "<function matplotlib.pyplot.show>"
            ]
          },
          "metadata": {},
          "execution_count": 136
        },
        {
          "output_type": "display_data",
          "data": {
            "image/png": "[encoded data removed]",
            "text/plain": [
              "<Figure size 432x288 with 1 Axes>"
            ]
          },
          "metadata": {
            "needs_background": "light"
          }
        }
      ]
    },
    {
      "cell_type": "code",
      "source": [
        "import warnings\n",
        "warnings.filterwarnings('ignore')\n",
        "plt.figure(figsize=(16,5))\n",
        "plt.subplot(1,2,1)\n",
        "sns.distplot(data_trip_9am_1['DL_bitrate'])\n",
        "plt.subplot(1,2,2)\n",
        "sns.distplot(data_trip_9am_1['RSRQ'])\n",
        "plt.show()\n"
      ],
      "metadata": {
        "colab": {
          "base_uri": "https://localhost:8080/"
        },
        "id": "nwTbBvGOWs9e",
        "outputId": "1505bdaa-c7dc-4f5c-ede2-ce6f51afcec6"
      },
      "execution_count": null,
      "outputs": [
        {
          "output_type": "display_data",
          "data": {
            "image/png": "[encoded data removed]",
            "text/plain": [
              "<Figure size 1152x360 with 2 Axes>"
            ]
          },
          "metadata": {
            "needs_background": "light"
          }
        }
      ]
    },
    {
      "cell_type": "code",
      "source": [
        "Q1_9am_1_snr = data_trip_9am_1['SNR'].quantile(0.25)\n",
        "Q3_9am_1_snr = data_trip_9am_1['SNR'].quantile(0.75)\n",
        "IQR_9am_1_snr = Q3_9am_1_snr-Q1_9am_1_snr\n",
        "lower_bound_9am_1_snr = Q1_9am_1_snr-1.5*IQR_9am_1_snr\n",
        "upper_bound_9am_1_snr = Q3_9am_1_snr+1.5*IQR_9am_1_snr"
      ],
      "metadata": {
        "id": "bb5TdSQVW8f-"
      },
      "execution_count": null,
      "outputs": []
    },
    {
      "cell_type": "code",
      "source": [
        "outliers_1_9am_snr = data_trip_9am_1[data_trip_9am_1['SNR']>upper_bound_9am_1_snr]\n",
        "outliers_1_9am_snr"
      ],
      "metadata": {
        "colab": {
          "base_uri": "https://localhost:8080/"
        },
        "id": "5x2ZLhIeY2ia",
        "outputId": "622ff07b-d987-4fb4-8d6a-ee7c9a84385a"
      },
      "execution_count": null,
      "outputs": [
        {
          "output_type": "execute_result",
          "data": {
            "text/html": [
              "<div>\n",
              "<style scoped>\n",
              "    .dataframe tbody tr th:only-of-type {\n",
              "        vertical-align: middle;\n",
              "    }\n",
              "\n",
              "    .dataframe tbody tr th {\n",
              "        vertical-align: top;\n",
              "    }\n",
              "\n",
              "    .dataframe thead th {\n",
              "        text-align: right;\n",
              "    }\n",
              "</style>\n",
              "<table border=\"1\" class=\"dataframe\">\n",
              "  <thead>\n",
              "    <tr style=\"text-align: right;\">\n",
              "      <th></th>\n",
              "      <th>Timestamp</th>\n",
              "      <th>Longitude</th>\n",
              "      <th>Latitude</th>\n",
              "      <th>Speed</th>\n",
              "      <th>Operator</th>\n",
              "      <th>CellID</th>\n",
              "      <th>LAC</th>\n",
              "      <th>LTERSSI</th>\n",
              "      <th>RSRP</th>\n",
              "      <th>RSRQ</th>\n",
              "      <th>SNR</th>\n",
              "      <th>DL_bitrate</th>\n",
              "      <th>UL_bitrate</th>\n",
              "    </tr>\n",
              "  </thead>\n",
              "  <tbody>\n",
              "  </tbody>\n",
              "</table>\n",
              "</div>"
            ],
            "text/plain": [
              "Empty DataFrame\n",
              "Columns: [Timestamp, Longitude, Latitude, Speed, Operator, CellID, LAC, LTERSSI, RSRP, RSRQ, SNR, DL_bitrate, UL_bitrate]\n",
              "Index: []"
            ]
          },
          "metadata": {},
          "execution_count": 139
        }
      ]
    },
    {
      "cell_type": "markdown",
      "source": [
        "### Exploratory Data Analysis - Univariate Analysis"
      ],
      "metadata": {
        "id": "4WpdemPvaOw6"
      }
    },
    {
      "cell_type": "code",
      "source": [
        "numerical_features = ['Longitude', 'Latitude', 'Speed', 'LTERSSI', 'RSRP', 'RSRQ', 'SNR','DL_bitrate','UL_bitrate']\n",
        "categorical_features = ['Operator', 'CellID', 'LAC']"
      ],
      "metadata": {
        "id": "dJ4BJlnNaXiX"
      },
      "execution_count": null,
      "outputs": []
    },
    {
      "cell_type": "code",
      "source": [
        "# categorical features\n",
        "\n",
        "# Feature Operator\n",
        "feature = categorical_features[0]\n",
        "count = data_trip_9am_1[feature].value_counts()\n",
        "percent = 100*data_trip_9am_1[feature].value_counts(normalize=True)\n",
        "df = pd.DataFrame({'jumlah sampel':count, 'persentase':percent.round(1)})\n",
        "print(df)\n",
        "count.plot(kind='bar', title=feature);"
      ],
      "metadata": {
        "colab": {
          "base_uri": "https://localhost:8080/"
        },
        "id": "r79W8RMrbPbE",
        "outputId": "d8fc0f96-6046-46ce-e962-88ecff6a367b"
      },
      "execution_count": null,
      "outputs": [
        {
          "output_type": "stream",
          "name": "stdout",
          "text": [
            "        jumlah sampel  persentase\n",
            "302610           7190        98.6\n",
            "302220            102         1.4\n"
          ]
        },
        {
          "output_type": "display_data",
          "data": {
            "image/png": "[encoded data removed]",
            "text/plain": [
              "<Figure size 432x288 with 1 Axes>"
            ]
          },
          "metadata": {
            "needs_background": "light"
          }
        }
      ]
    },
    {
      "cell_type": "markdown",
      "source": [
        "Kesimpulan : Terdapat 2 kategori pada fitur Operator/Mobile Country Code, yaitu 302610 dan 30220. Dari data persentase dapat kita simpulkan bahwa lebih dari 98% sampel merupakan operator dengan nomor MCC/MNC 302610."
      ],
      "metadata": {
        "id": "H7VK_THOfbR5"
      }
    },
    {
      "cell_type": "code",
      "source": [
        "# Feature CellID\n",
        "feature = categorical_features[1]\n",
        "count = data_trip_9am_1[feature].value_counts()\n",
        "percent = 100*data_trip_9am_1[feature].value_counts(normalize=True)\n",
        "df = pd.DataFrame({'jumlah sampel':count, 'persentase':percent.round(1)})\n",
        "print(df)\n",
        "count.plot(kind='bar', title=feature);"
      ],
      "metadata": {
        "colab": {
          "base_uri": "https://localhost:8080/"
        },
        "id": "RVtzqa52cjp-",
        "outputId": "63ae2751-0486-4da6-d1c1-3227a6f52547"
      },
      "execution_count": null,
      "outputs": [
        {
          "output_type": "stream",
          "name": "stdout",
          "text": [
            "   jumlah sampel  persentase\n",
            "3           3411        46.8\n",
            "2           1613        22.1\n",
            "1           1248        17.1\n",
            "4           1020        14.0\n"
          ]
        },
        {
          "output_type": "display_data",
          "data": {
            "image/png": "[encoded data removed]",
            "text/plain": [
              "<Figure size 432x288 with 1 Axes>"
            ]
          },
          "metadata": {
            "needs_background": "light"
          }
        }
      ]
    },
    {
      "cell_type": "markdown",
      "source": [
        "Kesimpulan : Terdapat 4 kategori pada fitur CellID, secara berurutan dari jumlahnya yang paling banyak yaitu CellID dengan nomor: 3, 2, 1, dan 4."
      ],
      "metadata": {
        "id": "OTDeMwivgPxB"
      }
    },
    {
      "cell_type": "code",
      "source": [
        "# Feature LAC\n",
        "feature = categorical_features[2]\n",
        "count = data_trip_9am_1[feature].value_counts()\n",
        "percent = 100*data_trip_9am_1[feature].value_counts(normalize=True)\n",
        "df = pd.DataFrame({'jumlah sampel':count, 'persentase':percent.round(1)})\n",
        "print(df)\n",
        "count.plot(kind='bar', title=feature);"
      ],
      "metadata": {
        "colab": {
          "base_uri": "https://localhost:8080/"
        },
        "id": "WaZx5Kysczf4",
        "outputId": "23a38d85-47cd-4a26-fd42-f00b3c990f53"
      },
      "execution_count": null,
      "outputs": [
        {
          "output_type": "stream",
          "name": "stdout",
          "text": [
            "       jumlah sampel  persentase\n",
            "56009           7292       100.0\n"
          ]
        },
        {
          "output_type": "display_data",
          "data": {
            "image/png": "[encoded data removed]",
            "text/plain": [
              "<Figure size 432x288 with 1 Axes>"
            ]
          },
          "metadata": {
            "needs_background": "light"
          }
        }
      ]
    },
    {
      "cell_type": "markdown",
      "source": [
        "Kesimpulan : Pada fitur LAC hanya terdapat satu kategori saja yakni kode LAC 56009 saja"
      ],
      "metadata": {
        "id": "y36ciAongqVZ"
      }
    },
    {
      "cell_type": "code",
      "source": [
        "data_trip_9am_1.hist(bins=50, figsize=(20,15))\n",
        "plt.show()"
      ],
      "metadata": {
        "colab": {
          "base_uri": "https://localhost:8080/"
        },
        "id": "zLeBnSqfc7Sq",
        "outputId": "bdaca517-cf0b-46ff-908f-df4b7062a027"
      },
      "execution_count": null,
      "outputs": [
        {
          "output_type": "display_data",
          "data": {
            "image/png": "[encoded data removed]",
            "text/plain": [
              "<Figure size 1440x1080 with 12 Axes>"
            ]
          },
          "metadata": {
            "needs_background": "light"
          }
        }
      ]
    },
    {
      "cell_type": "markdown",
      "source": [
        "Mari amati histogram di atas, khususnya histogram untuk variabel \"DL_bitrate\" yang merupakan fitur target (label) pada data kita. Dari histogram \"DL_bitrate\", kita bisa memperoleh beberapa informasi, antara lain:\n",
        "\n",
        "\n",
        "\n",
        "*   Terdapat banyak data dengan nilai '0' pada kolom \"DL_bitrate\"\n",
        "*   Distribusi masih belum terlihat, mungkin akan lebih terlihat apabila nilai '0' kita hilangkan dari data\n",
        "\n",
        "\n"
      ],
      "metadata": {
        "id": "Aawr603ChFgb"
      }
    },
    {
      "cell_type": "code",
      "source": [
        "# Count Nilai 0 pada kolom Speed, Downlink Bitrate, dan Uplink Bitrate\n",
        "\n",
        "x = (data_trip_9am_1.Speed == 0).sum()\n",
        "y = (data_trip_9am_1.DL_bitrate == 0).sum()\n",
        "z = (data_trip_9am_1.UL_bitrate == 0).sum()\n",
        " \n",
        "print(\"Nilai 0 di kolom Speed ada: \", x)\n",
        "print(\"Nilai 0 di kolom DL_bitrate ada: \", y)\n",
        "print(\"Nilai 0 di kolom UL_bitrate ada: \", z)"
      ],
      "metadata": {
        "colab": {
          "base_uri": "https://localhost:8080/"
        },
        "id": "3Xzyiw4YdLCp",
        "outputId": "ad748454-d51f-43b6-c686-803b65268848"
      },
      "execution_count": null,
      "outputs": [
        {
          "output_type": "stream",
          "name": "stdout",
          "text": [
            "Nilai 0 di kolom Speed ada:  1944\n",
            "Nilai 0 di kolom DL_bitrate ada:  314\n",
            "Nilai 0 di kolom UL_bitrate ada:  416\n"
          ]
        }
      ]
    },
    {
      "cell_type": "code",
      "source": [
        "data_trip_9am_1.loc[(data_trip_9am_1['Speed']==0)]"
      ],
      "metadata": {
        "colab": {
          "base_uri": "https://localhost:8080/"
        },
        "id": "SbPi7HBdj-Dv",
        "outputId": "2594c142-7904-4030-aaca-215802705c25"
      },
      "execution_count": null,
      "outputs": [
        {
          "output_type": "execute_result",
          "data": {
            "text/html": [
              "<div>\n",
              "<style scoped>\n",
              "    .dataframe tbody tr th:only-of-type {\n",
              "        vertical-align: middle;\n",
              "    }\n",
              "\n",
              "    .dataframe tbody tr th {\n",
              "        vertical-align: top;\n",
              "    }\n",
              "\n",
              "    .dataframe thead th {\n",
              "        text-align: right;\n",
              "    }\n",
              "</style>\n",
              "<table border=\"1\" class=\"dataframe\">\n",
              "  <thead>\n",
              "    <tr style=\"text-align: right;\">\n",
              "      <th></th>\n",
              "      <th>Timestamp</th>\n",
              "      <th>Longitude</th>\n",
              "      <th>Latitude</th>\n",
              "      <th>Speed</th>\n",
              "      <th>Operator</th>\n",
              "      <th>CellID</th>\n",
              "      <th>LAC</th>\n",
              "      <th>LTERSSI</th>\n",
              "      <th>RSRP</th>\n",
              "      <th>RSRQ</th>\n",
              "      <th>SNR</th>\n",
              "      <th>DL_bitrate</th>\n",
              "      <th>UL_bitrate</th>\n",
              "    </tr>\n",
              "  </thead>\n",
              "  <tbody>\n",
              "    <tr>\n",
              "      <th>273</th>\n",
              "      <td>2019-12-05 09:04:27</td>\n",
              "      <td>-76.50038</td>\n",
              "      <td>44.236519</td>\n",
              "      <td>0</td>\n",
              "      <td>302610</td>\n",
              "      <td>4</td>\n",
              "      <td>56009</td>\n",
              "      <td>-63</td>\n",
              "      <td>-84</td>\n",
              "      <td>-17</td>\n",
              "      <td>12.4</td>\n",
              "      <td>41633</td>\n",
              "      <td>8892</td>\n",
              "    </tr>\n",
              "    <tr>\n",
              "      <th>274</th>\n",
              "      <td>2019-12-05 09:04:27</td>\n",
              "      <td>-76.50038</td>\n",
              "      <td>44.236519</td>\n",
              "      <td>0</td>\n",
              "      <td>302610</td>\n",
              "      <td>4</td>\n",
              "      <td>56009</td>\n",
              "      <td>-63</td>\n",
              "      <td>-84</td>\n",
              "      <td>-17</td>\n",
              "      <td>12.4</td>\n",
              "      <td>47092</td>\n",
              "      <td>8739</td>\n",
              "    </tr>\n",
              "    <tr>\n",
              "      <th>275</th>\n",
              "      <td>2019-12-05 09:04:28</td>\n",
              "      <td>-76.50038</td>\n",
              "      <td>44.236516</td>\n",
              "      <td>0</td>\n",
              "      <td>302610</td>\n",
              "      <td>4</td>\n",
              "      <td>56009</td>\n",
              "      <td>-63</td>\n",
              "      <td>-84</td>\n",
              "      <td>-17</td>\n",
              "      <td>12.4</td>\n",
              "      <td>47092</td>\n",
              "      <td>8739</td>\n",
              "    </tr>\n",
              "    <tr>\n",
              "      <th>276</th>\n",
              "      <td>2019-12-05 09:04:28</td>\n",
              "      <td>-76.50038</td>\n",
              "      <td>44.236516</td>\n",
              "      <td>0</td>\n",
              "      <td>302610</td>\n",
              "      <td>4</td>\n",
              "      <td>56009</td>\n",
              "      <td>-63</td>\n",
              "      <td>-84</td>\n",
              "      <td>-17</td>\n",
              "      <td>12.4</td>\n",
              "      <td>47092</td>\n",
              "      <td>8739</td>\n",
              "    </tr>\n",
              "    <tr>\n",
              "      <th>277</th>\n",
              "      <td>2019-12-05 09:04:28</td>\n",
              "      <td>-76.50038</td>\n",
              "      <td>44.236516</td>\n",
              "      <td>0</td>\n",
              "      <td>302610</td>\n",
              "      <td>4</td>\n",
              "      <td>56009</td>\n",
              "      <td>-63</td>\n",
              "      <td>-84</td>\n",
              "      <td>-17</td>\n",
              "      <td>12.4</td>\n",
              "      <td>47092</td>\n",
              "      <td>8739</td>\n",
              "    </tr>\n",
              "    <tr>\n",
              "      <th>...</th>\n",
              "      <td>...</td>\n",
              "      <td>...</td>\n",
              "      <td>...</td>\n",
              "      <td>...</td>\n",
              "      <td>...</td>\n",
              "      <td>...</td>\n",
              "      <td>...</td>\n",
              "      <td>...</td>\n",
              "      <td>...</td>\n",
              "      <td>...</td>\n",
              "      <td>...</td>\n",
              "      <td>...</td>\n",
              "      <td>...</td>\n",
              "    </tr>\n",
              "    <tr>\n",
              "      <th>6842</th>\n",
              "      <td>2019-12-05 09:50:19</td>\n",
              "      <td>-76.49477</td>\n",
              "      <td>44.224309</td>\n",
              "      <td>0</td>\n",
              "      <td>302610</td>\n",
              "      <td>1</td>\n",
              "      <td>56009</td>\n",
              "      <td>-65</td>\n",
              "      <td>-82</td>\n",
              "      <td>-16</td>\n",
              "      <td>18.2</td>\n",
              "      <td>43952</td>\n",
              "      <td>9001</td>\n",
              "    </tr>\n",
              "    <tr>\n",
              "      <th>7288</th>\n",
              "      <td>2019-12-05 09:53:27</td>\n",
              "      <td>-76.48474</td>\n",
              "      <td>44.231050</td>\n",
              "      <td>0</td>\n",
              "      <td>302610</td>\n",
              "      <td>1</td>\n",
              "      <td>56009</td>\n",
              "      <td>-68</td>\n",
              "      <td>-96</td>\n",
              "      <td>-15</td>\n",
              "      <td>-0.8</td>\n",
              "      <td>21320</td>\n",
              "      <td>311</td>\n",
              "    </tr>\n",
              "    <tr>\n",
              "      <th>7289</th>\n",
              "      <td>2019-12-05 09:53:27</td>\n",
              "      <td>-76.48474</td>\n",
              "      <td>44.231050</td>\n",
              "      <td>0</td>\n",
              "      <td>302610</td>\n",
              "      <td>1</td>\n",
              "      <td>56009</td>\n",
              "      <td>-68</td>\n",
              "      <td>-96</td>\n",
              "      <td>-15</td>\n",
              "      <td>-0.8</td>\n",
              "      <td>21320</td>\n",
              "      <td>311</td>\n",
              "    </tr>\n",
              "    <tr>\n",
              "      <th>7290</th>\n",
              "      <td>2019-12-05 09:53:28</td>\n",
              "      <td>-76.48474</td>\n",
              "      <td>44.231050</td>\n",
              "      <td>0</td>\n",
              "      <td>302610</td>\n",
              "      <td>1</td>\n",
              "      <td>56009</td>\n",
              "      <td>-68</td>\n",
              "      <td>-98</td>\n",
              "      <td>-12</td>\n",
              "      <td>-0.8</td>\n",
              "      <td>90</td>\n",
              "      <td>5038</td>\n",
              "    </tr>\n",
              "    <tr>\n",
              "      <th>7291</th>\n",
              "      <td>2019-12-05 09:53:28</td>\n",
              "      <td>-76.48474</td>\n",
              "      <td>44.231050</td>\n",
              "      <td>0</td>\n",
              "      <td>302610</td>\n",
              "      <td>1</td>\n",
              "      <td>56009</td>\n",
              "      <td>-68</td>\n",
              "      <td>-98</td>\n",
              "      <td>-12</td>\n",
              "      <td>-0.8</td>\n",
              "      <td>90</td>\n",
              "      <td>5038</td>\n",
              "    </tr>\n",
              "  </tbody>\n",
              "</table>\n",
              "<p>1944 rows × 13 columns</p>\n",
              "</div>"
            ],
            "text/plain": [
              "                Timestamp  Longitude   Latitude  ...   SNR  DL_bitrate  UL_bitrate\n",
              "273   2019-12-05 09:04:27  -76.50038  44.236519  ...  12.4       41633        8892\n",
              "274   2019-12-05 09:04:27  -76.50038  44.236519  ...  12.4       47092        8739\n",
              "275   2019-12-05 09:04:28  -76.50038  44.236516  ...  12.4       47092        8739\n",
              "276   2019-12-05 09:04:28  -76.50038  44.236516  ...  12.4       47092        8739\n",
              "277   2019-12-05 09:04:28  -76.50038  44.236516  ...  12.4       47092        8739\n",
              "...                   ...        ...        ...  ...   ...         ...         ...\n",
              "6842  2019-12-05 09:50:19  -76.49477  44.224309  ...  18.2       43952        9001\n",
              "7288  2019-12-05 09:53:27  -76.48474  44.231050  ...  -0.8       21320         311\n",
              "7289  2019-12-05 09:53:27  -76.48474  44.231050  ...  -0.8       21320         311\n",
              "7290  2019-12-05 09:53:28  -76.48474  44.231050  ...  -0.8          90        5038\n",
              "7291  2019-12-05 09:53:28  -76.48474  44.231050  ...  -0.8          90        5038\n",
              "\n",
              "[1944 rows x 13 columns]"
            ]
          },
          "metadata": {},
          "execution_count": 146
        }
      ]
    },
    {
      "cell_type": "markdown",
      "source": [
        "Kesimpulan : Dikarenakan total missing value yang ditemukan mencapai 1944 baris, maka jumlah ini cukup besar dibandingkan dengan data yang kita miliki sebanyak 7292 baris. Apabila kita menghapus data tersebut akan sangat banyak data yang hilang. Oleh karena itu, kita biarkan datanya terlebih dahulu"
      ],
      "metadata": {
        "id": "gmfSJuxrksko"
      }
    },
    {
      "cell_type": "markdown",
      "source": [
        "### Exploratory Data Analysis - Multivariate  Analysis\n",
        "\n"
      ],
      "metadata": {
        "id": "W3_7EFtgmUQZ"
      }
    },
    {
      "cell_type": "code",
      "source": [
        "# Numerical Features\n",
        "sns.pairplot(data_trip_9am_1, diag_kind = 'kde')"
      ],
      "metadata": {
        "colab": {
          "base_uri": "https://localhost:8080/"
        },
        "id": "AjUHOAsYkPoN",
        "outputId": "638fbaa4-aa84-4f92-dfad-872b1a3a4783"
      },
      "execution_count": null,
      "outputs": [
        {
          "output_type": "stream",
          "text": [
            "\u001b[1;30;43mThis cell output is too large and can only be displayed while logged in.\u001b[0m\n"
          ]
        }
      ]
    },
    {
      "cell_type": "markdown",
      "source": [
        "Kesimpulan : Berdasarkan plot grafik korelasi diatas terhadap target, yakni \"Downlink Bitrate\" dapat dilihat bahwa tidak terdapat kolom dengan relasi yang kuat dibandingkan dengan target"
      ],
      "metadata": {
        "id": "63cfzitypSXx"
      }
    },
    {
      "cell_type": "code",
      "source": [
        "# Correlation Score\n",
        "plt.figure(figsize=(10, 8))\n",
        "correlation_matrix = data_trip_9am_1.corr().round(2)\n",
        "# annot = True to print the values inside the square\n",
        "sns.heatmap(data=correlation_matrix, annot=True, cmap='coolwarm', linewidths=0.5, )\n",
        "plt.title(\"Correlation Matrix untuk Fitur Numerik \", size=20)\n"
      ],
      "metadata": {
        "colab": {
          "base_uri": "https://localhost:8080/"
        },
        "id": "nwjtBU9BmSpT",
        "outputId": "3eacd503-25de-43b2-e3aa-1047ca6e3e62"
      },
      "execution_count": null,
      "outputs": [
        {
          "output_type": "execute_result",
          "data": {
            "text/plain": [
              "Text(0.5, 1.0, 'Correlation Matrix untuk Fitur Numerik ')"
            ]
          },
          "metadata": {},
          "execution_count": 148
        },
        {
          "output_type": "display_data",
          "data": {
            "image/png": "[encoded data removed]",
            "text/plain": [
              "<Figure size 720x576 with 2 Axes>"
            ]
          },
          "metadata": {
            "needs_background": "light"
          }
        }
      ]
    },
    {
      "cell_type": "markdown",
      "source": [
        "Kesimpulan : Dikarenakan tidak terdapat fitur dengan korelasi yang kuat dengan target, maka kita drop fitur dengan korelasi yang sangat lemah yakni fitur Longitude, Latitude, Speed, Operator, CellID, LAC, RSRQ, dan UL_bitrate"
      ],
      "metadata": {
        "id": "-gHOQaRjqkpH"
      }
    },
    {
      "cell_type": "code",
      "source": [
        "data_trip_9am_1.drop(['Longitude','Latitude','Speed','Operator','CellID','LAC','RSRQ','UL_bitrate'], inplace=True, axis=1)\n",
        "data_trip_9am_1.head()"
      ],
      "metadata": {
        "colab": {
          "base_uri": "https://localhost:8080/"
        },
        "id": "EDk30eRtqFey",
        "outputId": "1cf5c203-15f7-4b68-9ac4-fd78c6db07f7"
      },
      "execution_count": null,
      "outputs": [
        {
          "output_type": "execute_result",
          "data": {
            "text/html": [
              "<div>\n",
              "<style scoped>\n",
              "    .dataframe tbody tr th:only-of-type {\n",
              "        vertical-align: middle;\n",
              "    }\n",
              "\n",
              "    .dataframe tbody tr th {\n",
              "        vertical-align: top;\n",
              "    }\n",
              "\n",
              "    .dataframe thead th {\n",
              "        text-align: right;\n",
              "    }\n",
              "</style>\n",
              "<table border=\"1\" class=\"dataframe\">\n",
              "  <thead>\n",
              "    <tr style=\"text-align: right;\">\n",
              "      <th></th>\n",
              "      <th>Timestamp</th>\n",
              "      <th>LTERSSI</th>\n",
              "      <th>RSRP</th>\n",
              "      <th>SNR</th>\n",
              "      <th>DL_bitrate</th>\n",
              "    </tr>\n",
              "  </thead>\n",
              "  <tbody>\n",
              "    <tr>\n",
              "      <th>0</th>\n",
              "      <td>2019-12-05 09:02:32</td>\n",
              "      <td>-66</td>\n",
              "      <td>-84</td>\n",
              "      <td>10.8</td>\n",
              "      <td>21</td>\n",
              "    </tr>\n",
              "    <tr>\n",
              "      <th>1</th>\n",
              "      <td>2019-12-05 09:02:32</td>\n",
              "      <td>-66</td>\n",
              "      <td>-84</td>\n",
              "      <td>10.8</td>\n",
              "      <td>7651</td>\n",
              "    </tr>\n",
              "    <tr>\n",
              "      <th>2</th>\n",
              "      <td>2019-12-05 09:02:33</td>\n",
              "      <td>-66</td>\n",
              "      <td>-84</td>\n",
              "      <td>7.2</td>\n",
              "      <td>7651</td>\n",
              "    </tr>\n",
              "    <tr>\n",
              "      <th>3</th>\n",
              "      <td>2019-12-05 09:02:33</td>\n",
              "      <td>-66</td>\n",
              "      <td>-94</td>\n",
              "      <td>7.2</td>\n",
              "      <td>10017</td>\n",
              "    </tr>\n",
              "    <tr>\n",
              "      <th>4</th>\n",
              "      <td>2019-12-05 09:02:34</td>\n",
              "      <td>-66</td>\n",
              "      <td>-94</td>\n",
              "      <td>5.4</td>\n",
              "      <td>10017</td>\n",
              "    </tr>\n",
              "  </tbody>\n",
              "</table>\n",
              "</div>"
            ],
            "text/plain": [
              "             Timestamp  LTERSSI  RSRP   SNR  DL_bitrate\n",
              "0  2019-12-05 09:02:32      -66   -84  10.8          21\n",
              "1  2019-12-05 09:02:32      -66   -84  10.8        7651\n",
              "2  2019-12-05 09:02:33      -66   -84   7.2        7651\n",
              "3  2019-12-05 09:02:33      -66   -94   7.2       10017\n",
              "4  2019-12-05 09:02:34      -66   -94   5.4       10017"
            ]
          },
          "metadata": {},
          "execution_count": 149
        }
      ]
    },
    {
      "cell_type": "code",
      "source": [
        "data_trip_9am_1.hist(bins=50, figsize=(20,15))\n",
        "plt.show()"
      ],
      "metadata": {
        "colab": {
          "base_uri": "https://localhost:8080/"
        },
        "id": "-zkKeCoHrq6_",
        "outputId": "8e779075-885d-4eab-8ed3-992b09135772"
      },
      "execution_count": null,
      "outputs": [
        {
          "output_type": "display_data",
          "data": {
            "image/png": "[encoded data removed]",
            "text/plain": [
              "<Figure size 1440x1080 with 4 Axes>"
            ]
          },
          "metadata": {
            "needs_background": "light"
          }
        }
      ]
    },
    {
      "cell_type": "code",
      "source": [
        "data_trip_9am_1"
      ],
      "metadata": {
        "colab": {
          "base_uri": "https://localhost:8080/"
        },
        "id": "9yenNyERr-zI",
        "outputId": "b6882992-2878-45d9-cbd9-97e6a1c6280b"
      },
      "execution_count": null,
      "outputs": [
        {
          "output_type": "execute_result",
          "data": {
            "text/html": [
              "<div>\n",
              "<style scoped>\n",
              "    .dataframe tbody tr th:only-of-type {\n",
              "        vertical-align: middle;\n",
              "    }\n",
              "\n",
              "    .dataframe tbody tr th {\n",
              "        vertical-align: top;\n",
              "    }\n",
              "\n",
              "    .dataframe thead th {\n",
              "        text-align: right;\n",
              "    }\n",
              "</style>\n",
              "<table border=\"1\" class=\"dataframe\">\n",
              "  <thead>\n",
              "    <tr style=\"text-align: right;\">\n",
              "      <th></th>\n",
              "      <th>Timestamp</th>\n",
              "      <th>LTERSSI</th>\n",
              "      <th>RSRP</th>\n",
              "      <th>SNR</th>\n",
              "      <th>DL_bitrate</th>\n",
              "    </tr>\n",
              "  </thead>\n",
              "  <tbody>\n",
              "    <tr>\n",
              "      <th>0</th>\n",
              "      <td>2019-12-05 09:02:32</td>\n",
              "      <td>-66</td>\n",
              "      <td>-84</td>\n",
              "      <td>10.8</td>\n",
              "      <td>21</td>\n",
              "    </tr>\n",
              "    <tr>\n",
              "      <th>1</th>\n",
              "      <td>2019-12-05 09:02:32</td>\n",
              "      <td>-66</td>\n",
              "      <td>-84</td>\n",
              "      <td>10.8</td>\n",
              "      <td>7651</td>\n",
              "    </tr>\n",
              "    <tr>\n",
              "      <th>2</th>\n",
              "      <td>2019-12-05 09:02:33</td>\n",
              "      <td>-66</td>\n",
              "      <td>-84</td>\n",
              "      <td>7.2</td>\n",
              "      <td>7651</td>\n",
              "    </tr>\n",
              "    <tr>\n",
              "      <th>3</th>\n",
              "      <td>2019-12-05 09:02:33</td>\n",
              "      <td>-66</td>\n",
              "      <td>-94</td>\n",
              "      <td>7.2</td>\n",
              "      <td>10017</td>\n",
              "    </tr>\n",
              "    <tr>\n",
              "      <th>4</th>\n",
              "      <td>2019-12-05 09:02:34</td>\n",
              "      <td>-66</td>\n",
              "      <td>-94</td>\n",
              "      <td>5.4</td>\n",
              "      <td>10017</td>\n",
              "    </tr>\n",
              "    <tr>\n",
              "      <th>...</th>\n",
              "      <td>...</td>\n",
              "      <td>...</td>\n",
              "      <td>...</td>\n",
              "      <td>...</td>\n",
              "      <td>...</td>\n",
              "    </tr>\n",
              "    <tr>\n",
              "      <th>7287</th>\n",
              "      <td>2019-12-05 09:53:26</td>\n",
              "      <td>-68</td>\n",
              "      <td>-96</td>\n",
              "      <td>-0.8</td>\n",
              "      <td>21320</td>\n",
              "    </tr>\n",
              "    <tr>\n",
              "      <th>7288</th>\n",
              "      <td>2019-12-05 09:53:27</td>\n",
              "      <td>-68</td>\n",
              "      <td>-96</td>\n",
              "      <td>-0.8</td>\n",
              "      <td>21320</td>\n",
              "    </tr>\n",
              "    <tr>\n",
              "      <th>7289</th>\n",
              "      <td>2019-12-05 09:53:27</td>\n",
              "      <td>-68</td>\n",
              "      <td>-96</td>\n",
              "      <td>-0.8</td>\n",
              "      <td>21320</td>\n",
              "    </tr>\n",
              "    <tr>\n",
              "      <th>7290</th>\n",
              "      <td>2019-12-05 09:53:28</td>\n",
              "      <td>-68</td>\n",
              "      <td>-98</td>\n",
              "      <td>-0.8</td>\n",
              "      <td>90</td>\n",
              "    </tr>\n",
              "    <tr>\n",
              "      <th>7291</th>\n",
              "      <td>2019-12-05 09:53:28</td>\n",
              "      <td>-68</td>\n",
              "      <td>-98</td>\n",
              "      <td>-0.8</td>\n",
              "      <td>90</td>\n",
              "    </tr>\n",
              "  </tbody>\n",
              "</table>\n",
              "<p>7292 rows × 5 columns</p>\n",
              "</div>"
            ],
            "text/plain": [
              "                Timestamp  LTERSSI  RSRP   SNR  DL_bitrate\n",
              "0     2019-12-05 09:02:32      -66   -84  10.8          21\n",
              "1     2019-12-05 09:02:32      -66   -84  10.8        7651\n",
              "2     2019-12-05 09:02:33      -66   -84   7.2        7651\n",
              "3     2019-12-05 09:02:33      -66   -94   7.2       10017\n",
              "4     2019-12-05 09:02:34      -66   -94   5.4       10017\n",
              "...                   ...      ...   ...   ...         ...\n",
              "7287  2019-12-05 09:53:26      -68   -96  -0.8       21320\n",
              "7288  2019-12-05 09:53:27      -68   -96  -0.8       21320\n",
              "7289  2019-12-05 09:53:27      -68   -96  -0.8       21320\n",
              "7290  2019-12-05 09:53:28      -68   -98  -0.8          90\n",
              "7291  2019-12-05 09:53:28      -68   -98  -0.8          90\n",
              "\n",
              "[7292 rows x 5 columns]"
            ]
          },
          "metadata": {},
          "execution_count": 151
        }
      ]
    },
    {
      "cell_type": "code",
      "source": [
        "plt.boxplot(data_trip_9am_1['DL_bitrate'])\n",
        "plt.show"
      ],
      "metadata": {
        "colab": {
          "base_uri": "https://localhost:8080/"
        },
        "id": "rIB2PenasGzI",
        "outputId": "cc32a5c4-907e-47a4-e123-20906317ffc9"
      },
      "execution_count": null,
      "outputs": [
        {
          "output_type": "execute_result",
          "data": {
            "text/plain": [
              "<function matplotlib.pyplot.show>"
            ]
          },
          "metadata": {},
          "execution_count": 152
        },
        {
          "output_type": "display_data",
          "data": {
            "image/png": "[encoded data removed]",
            "text/plain": [
              "<Figure size 432x288 with 1 Axes>"
            ]
          },
          "metadata": {
            "needs_background": "light"
          }
        }
      ]
    },
    {
      "cell_type": "code",
      "source": [
        "y = (data_trip_9am_1.DL_bitrate == 0).sum()\n",
        "print(\"Nilai 0 di kolom DL_bitrate ada: \", y)"
      ],
      "metadata": {
        "colab": {
          "base_uri": "https://localhost:8080/"
        },
        "id": "srEcDmBDsPA_",
        "outputId": "20994eae-52cc-44ad-fe01-a4dbc71ea69c"
      },
      "execution_count": null,
      "outputs": [
        {
          "output_type": "stream",
          "name": "stdout",
          "text": [
            "Nilai 0 di kolom DL_bitrate ada:  314\n"
          ]
        }
      ]
    },
    {
      "cell_type": "markdown",
      "source": [
        "# Data Preparation"
      ],
      "metadata": {
        "id": "0Pb__eWUtPkH"
      }
    },
    {
      "cell_type": "markdown",
      "source": [
        "### Dimension Reduction with PCA"
      ],
      "metadata": {
        "id": "3K6aczUuAuF5"
      }
    },
    {
      "cell_type": "code",
      "source": [
        "# Dimension Reduction with PCA\n",
        "sns.pairplot(data_trip_9am_1[['LTERSSI','RSRP','SNR']], plot_kws={\"s\": 3});"
      ],
      "metadata": {
        "colab": {
          "base_uri": "https://localhost:8080/",
          "height": 550
        },
        "id": "IjCXKHTYs173",
        "outputId": "17716d09-c38e-4031-dea3-6bbca3f489bf"
      },
      "execution_count": null,
      "outputs": [
        {
          "output_type": "display_data",
          "data": {
            "image/png": "[encoded data removed]",
            "text/plain": [
              "<Figure size 540x540 with 12 Axes>"
            ]
          },
          "metadata": {
            "needs_background": "light"
          }
        }
      ]
    },
    {
      "cell_type": "markdown",
      "source": [
        "In this case, the parameters that we enter into the class are **n_components and random_state**. The parameter **n_components is the number of components or dimensions, in our case there are 3, namely 'LTERSSI', 'RSRP', and 'SNR'.**\n",
        "\n",
        "Meanwhile, **the random_state parameter functions to control the random number generator used**. This parameter is an integer and the value is independent. In this case, **we apply random_state = 123**. Whatever integer value we specify as long as it is an integer, it will return the same result every time we call the function (in our case, class PCA).\n",
        "\n",
        "Specifying the random_state parameter aims **to ensure that the results of dividing the dataset are consistent and provide the same data every time the model is run**. If not specified, then every time we do a split, we will get different train and test data. This affects the accuracy of the ML model which is different every time it is run."
      ],
      "metadata": {
        "id": "ng6lJ7fUBFLT"
      }
    },
    {
      "cell_type": "code",
      "source": [
        "from sklearn.decomposition import PCA\n",
        " \n",
        "pca = PCA(n_components=3, random_state=123)\n",
        "pca.fit(data_trip_9am_1[['LTERSSI','RSRP','SNR']])\n",
        "princ_comp = pca.transform(data_trip_9am_1[['LTERSSI','RSRP','SNR']])"
      ],
      "metadata": {
        "id": "6YhpiFy8t4rf"
      },
      "execution_count": null,
      "outputs": []
    },
    {
      "cell_type": "code",
      "source": [
        "pca.explained_variance_ratio_.round(3)"
      ],
      "metadata": {
        "colab": {
          "base_uri": "https://localhost:8080/"
        },
        "id": "m122F5seuJzL",
        "outputId": "3cc06ca0-caec-4906-9f37-f71b838d75a8"
      },
      "execution_count": null,
      "outputs": [
        {
          "output_type": "execute_result",
          "data": {
            "text/plain": [
              "array([0.887, 0.093, 0.021])"
            ]
          },
          "metadata": {},
          "execution_count": 156
        }
      ]
    },
    {
      "cell_type": "markdown",
      "source": [
        "Conclusion: 88.7% of the information on the three features 'LTERSSI', 'RSRP', 'SNR' is on the first PC. While the rest, 9.3% and 2.1% are on the second and third PCs. When you pay attention, the number is > 100%. This is due to the rounding process in 3 decimal places, so we don't have to worry."
      ],
      "metadata": {
        "id": "FqjDNEvXC8a4"
      }
    },
    {
      "cell_type": "code",
      "source": [
        "from sklearn.decomposition import PCA\n",
        "pca = PCA(n_components=1, random_state=123)\n",
        "pca.fit(data_trip_9am_1[['LTERSSI','RSRP','SNR']])\n",
        "data_trip_9am_1['performance'] = pca.transform(data_trip_9am_1.loc[:, ('LTERSSI','RSRP','SNR')]).flatten()\n",
        "data_trip_9am_1.drop(['LTERSSI','RSRP','SNR'], axis=1, inplace=True)"
      ],
      "metadata": {
        "id": "jJKsVZdwuTv7"
      },
      "execution_count": null,
      "outputs": []
    },
    {
      "cell_type": "markdown",
      "source": [
        "Based on these results, we will reduce the features (performance) and keep only the first PC (component). This first PC will be a network performance or size feature replacing the other three features ('LTERSSI', 'RSRP', 'SNR'). We name this feature 'Performance'."
      ],
      "metadata": {
        "id": "UCK5KRmFHI2X"
      }
    },
    {
      "cell_type": "code",
      "source": [
        "data_trip_9am_1"
      ],
      "metadata": {
        "colab": {
          "base_uri": "https://localhost:8080/",
          "height": 423
        },
        "id": "4wat7mvNvIQa",
        "outputId": "53d0eb12-210c-4767-b7b3-06af93da9b9c"
      },
      "execution_count": null,
      "outputs": [
        {
          "output_type": "execute_result",
          "data": {
            "text/html": [
              "<div>\n",
              "<style scoped>\n",
              "    .dataframe tbody tr th:only-of-type {\n",
              "        vertical-align: middle;\n",
              "    }\n",
              "\n",
              "    .dataframe tbody tr th {\n",
              "        vertical-align: top;\n",
              "    }\n",
              "\n",
              "    .dataframe thead th {\n",
              "        text-align: right;\n",
              "    }\n",
              "</style>\n",
              "<table border=\"1\" class=\"dataframe\">\n",
              "  <thead>\n",
              "    <tr style=\"text-align: right;\">\n",
              "      <th></th>\n",
              "      <th>Timestamp</th>\n",
              "      <th>DL_bitrate</th>\n",
              "      <th>performance</th>\n",
              "    </tr>\n",
              "  </thead>\n",
              "  <tbody>\n",
              "    <tr>\n",
              "      <th>0</th>\n",
              "      <td>2019-12-05 09:02:32</td>\n",
              "      <td>21</td>\n",
              "      <td>-8.378363</td>\n",
              "    </tr>\n",
              "    <tr>\n",
              "      <th>1</th>\n",
              "      <td>2019-12-05 09:02:32</td>\n",
              "      <td>7651</td>\n",
              "      <td>-8.378363</td>\n",
              "    </tr>\n",
              "    <tr>\n",
              "      <th>2</th>\n",
              "      <td>2019-12-05 09:02:33</td>\n",
              "      <td>7651</td>\n",
              "      <td>-6.739232</td>\n",
              "    </tr>\n",
              "    <tr>\n",
              "      <th>3</th>\n",
              "      <td>2019-12-05 09:02:33</td>\n",
              "      <td>10017</td>\n",
              "      <td>1.641441</td>\n",
              "    </tr>\n",
              "    <tr>\n",
              "      <th>4</th>\n",
              "      <td>2019-12-05 09:02:34</td>\n",
              "      <td>10017</td>\n",
              "      <td>2.461006</td>\n",
              "    </tr>\n",
              "    <tr>\n",
              "      <th>...</th>\n",
              "      <td>...</td>\n",
              "      <td>...</td>\n",
              "      <td>...</td>\n",
              "    </tr>\n",
              "    <tr>\n",
              "      <th>7287</th>\n",
              "      <td>2019-12-05 09:53:26</td>\n",
              "      <td>21320</td>\n",
              "      <td>7.561194</td>\n",
              "    </tr>\n",
              "    <tr>\n",
              "      <th>7288</th>\n",
              "      <td>2019-12-05 09:53:27</td>\n",
              "      <td>21320</td>\n",
              "      <td>7.561194</td>\n",
              "    </tr>\n",
              "    <tr>\n",
              "      <th>7289</th>\n",
              "      <td>2019-12-05 09:53:27</td>\n",
              "      <td>21320</td>\n",
              "      <td>7.561194</td>\n",
              "    </tr>\n",
              "    <tr>\n",
              "      <th>7290</th>\n",
              "      <td>2019-12-05 09:53:28</td>\n",
              "      <td>90</td>\n",
              "      <td>9.237329</td>\n",
              "    </tr>\n",
              "    <tr>\n",
              "      <th>7291</th>\n",
              "      <td>2019-12-05 09:53:28</td>\n",
              "      <td>90</td>\n",
              "      <td>9.237329</td>\n",
              "    </tr>\n",
              "  </tbody>\n",
              "</table>\n",
              "<p>7292 rows × 3 columns</p>\n",
              "</div>"
            ],
            "text/plain": [
              "                Timestamp  DL_bitrate  performance\n",
              "0     2019-12-05 09:02:32          21    -8.378363\n",
              "1     2019-12-05 09:02:32        7651    -8.378363\n",
              "2     2019-12-05 09:02:33        7651    -6.739232\n",
              "3     2019-12-05 09:02:33       10017     1.641441\n",
              "4     2019-12-05 09:02:34       10017     2.461006\n",
              "...                   ...         ...          ...\n",
              "7287  2019-12-05 09:53:26       21320     7.561194\n",
              "7288  2019-12-05 09:53:27       21320     7.561194\n",
              "7289  2019-12-05 09:53:27       21320     7.561194\n",
              "7290  2019-12-05 09:53:28          90     9.237329\n",
              "7291  2019-12-05 09:53:28          90     9.237329\n",
              "\n",
              "[7292 rows x 3 columns]"
            ]
          },
          "metadata": {},
          "execution_count": 158
        }
      ]
    },
    {
      "cell_type": "markdown",
      "source": [
        "Because the model cannot process the timestamp column because it cannot convert its data type to a float data type. We need to change the data type first to a datetime data type, and then divide it into separate sections between hours, minutes, seconds, days, months, and years."
      ],
      "metadata": {
        "id": "HdMM4G2dIu0C"
      }
    },
    {
      "cell_type": "code",
      "source": [
        "data_trip_9am_1['Timestamp'] = pd.to_datetime(data_trip_9am_1['Timestamp'], errors=\"coerce\")"
      ],
      "metadata": {
        "id": "uoPBOSetLw6w"
      },
      "execution_count": null,
      "outputs": []
    },
    {
      "cell_type": "code",
      "source": [
        "data_trip_9am_1['day'] =data_trip_9am_1['Timestamp'].dt.day\n",
        "data_trip_9am_1['month'] =data_trip_9am_1['Timestamp'].dt.month\n",
        "data_trip_9am_1['year'] =data_trip_9am_1['Timestamp'].dt.year\n",
        "data_trip_9am_1['hour'] =data_trip_9am_1['Timestamp'].dt.hour\n",
        "data_trip_9am_1['minute'] =data_trip_9am_1['Timestamp'].dt.minute\n",
        "data_trip_9am_1['second'] =data_trip_9am_1['Timestamp'].dt.second"
      ],
      "metadata": {
        "id": "xEplrApVL4is"
      },
      "execution_count": null,
      "outputs": []
    },
    {
      "cell_type": "code",
      "source": [
        "data_trip_9am_1 = data_trip_9am_1[['Timestamp', 'DL_bitrate', 'performance', 'hour','minute','second']]\n",
        "data_trip_9am_1 = data_trip_9am_1.fillna(0)\n",
        "Table = data_trip_9am_1.set_index('Timestamp')"
      ],
      "metadata": {
        "id": "TP9g9c5XMLDZ"
      },
      "execution_count": null,
      "outputs": []
    },
    {
      "cell_type": "code",
      "source": [
        "x = data_trip_9am_1[['Timestamp', 'performance', 'hour','minute','second']]\n",
        "y = data_trip_9am_1['DL_bitrate']"
      ],
      "metadata": {
        "id": "pIJA7MIxPzYG"
      },
      "execution_count": null,
      "outputs": []
    },
    {
      "cell_type": "markdown",
      "source": [
        "### Train-Test Split"
      ],
      "metadata": {
        "id": "mRFe9UGMSCP7"
      }
    },
    {
      "cell_type": "markdown",
      "source": [
        "Pada penelitian ini, kita akan menggunakan proporsi pembagian sebesar 80:20 dengan fungsi train_test_split dari sklearn"
      ],
      "metadata": {
        "id": "uMVyFUdVTUXL"
      }
    },
    {
      "cell_type": "code",
      "source": [
        "from sklearn.model_selection import train_test_split\n",
        "training_data, testing_data = train_test_split(Table, test_size=0.2)\n",
        "print(f\"No. of training examples: {training_data.shape[0]}\")\n",
        "print(f\"No. of testing examples: {testing_data.shape[0]}\")"
      ],
      "metadata": {
        "colab": {
          "base_uri": "https://localhost:8080/"
        },
        "id": "GjVbAw8YvR0u",
        "outputId": "2aabb01e-6037-42f5-f6c7-91e93ab7610e"
      },
      "execution_count": null,
      "outputs": [
        {
          "output_type": "stream",
          "name": "stdout",
          "text": [
            "No. of training examples: 5833\n",
            "No. of testing examples: 1459\n"
          ]
        }
      ]
    },
    {
      "cell_type": "code",
      "source": [
        "x_train, y_train = training_data.drop(\"DL_bitrate\", axis=1), training_data['DL_bitrate']\n",
        "x_test, y_test   = testing_data.drop(\"DL_bitrate\", axis=1) , testing_data['DL_bitrate']"
      ],
      "metadata": {
        "id": "e0LwREFANjP8"
      },
      "execution_count": null,
      "outputs": []
    },
    {
      "cell_type": "markdown",
      "source": [
        "### Standardization"
      ],
      "metadata": {
        "id": "oezkRh-VS02W"
      }
    },
    {
      "cell_type": "markdown",
      "source": [
        "**Why not do some scaling first instead of train-test split?**\n",
        "\n",
        "So far, the mistake that machine learning practitioners often make is to perform scaling processes such as normalization and standardization before dividing the data into training data and test data. This has the **potential to cause data leakage**. The scaling process on the entire dataset makes the model have information about the distribution of the test data. Information about test data (which the model should not see) is also included in the training data transformation process. Therefore, **we will do the scaling process separately between training data and test data**."
      ],
      "metadata": {
        "id": "uAep1-6-S5tc"
      }
    },
    {
      "cell_type": "markdown",
      "source": [
        "**StandardScaler** performs a feature standardization process by subtracting the mean (mean value) and then dividing by the standard deviation to shift the distribution. StandardScaler returns a distribution with a standard deviation equal to 1 and a mean equal to 0. Approximately 68% of the values will be between -1 and 1"
      ],
      "metadata": {
        "id": "LouSpnvYVjLT"
      }
    },
    {
      "cell_type": "code",
      "source": [
        "from sklearn.preprocessing import StandardScaler\n",
        " \n",
        "numerical_features = ['performance']\n",
        "scaler = StandardScaler()\n",
        "scaler.fit(x_train[numerical_features])\n",
        "x_train[numerical_features] = scaler.transform(x_train.loc[:, numerical_features])\n",
        "x_train[numerical_features].head()"
      ],
      "metadata": {
        "colab": {
          "base_uri": "https://localhost:8080/",
          "height": 238
        },
        "id": "2fg_X1VmwAh_",
        "outputId": "2f4bb0c3-6e67-4086-d106-9d8320704792"
      },
      "execution_count": null,
      "outputs": [
        {
          "output_type": "execute_result",
          "data": {
            "text/html": [
              "<div>\n",
              "<style scoped>\n",
              "    .dataframe tbody tr th:only-of-type {\n",
              "        vertical-align: middle;\n",
              "    }\n",
              "\n",
              "    .dataframe tbody tr th {\n",
              "        vertical-align: top;\n",
              "    }\n",
              "\n",
              "    .dataframe thead th {\n",
              "        text-align: right;\n",
              "    }\n",
              "</style>\n",
              "<table border=\"1\" class=\"dataframe\">\n",
              "  <thead>\n",
              "    <tr style=\"text-align: right;\">\n",
              "      <th></th>\n",
              "      <th>performance</th>\n",
              "    </tr>\n",
              "    <tr>\n",
              "      <th>Timestamp</th>\n",
              "      <th></th>\n",
              "    </tr>\n",
              "  </thead>\n",
              "  <tbody>\n",
              "    <tr>\n",
              "      <th>2019-12-05 09:51:51</th>\n",
              "      <td>0.859443</td>\n",
              "    </tr>\n",
              "    <tr>\n",
              "      <th>2019-12-05 09:12:40</th>\n",
              "      <td>1.399688</td>\n",
              "    </tr>\n",
              "    <tr>\n",
              "      <th>2019-12-05 09:18:23</th>\n",
              "      <td>-0.139201</td>\n",
              "    </tr>\n",
              "    <tr>\n",
              "      <th>2019-12-05 09:21:36</th>\n",
              "      <td>0.053492</td>\n",
              "    </tr>\n",
              "    <tr>\n",
              "      <th>2019-12-05 09:11:36</th>\n",
              "      <td>1.175004</td>\n",
              "    </tr>\n",
              "  </tbody>\n",
              "</table>\n",
              "</div>"
            ],
            "text/plain": [
              "                     performance\n",
              "Timestamp                       \n",
              "2019-12-05 09:51:51     0.859443\n",
              "2019-12-05 09:12:40     1.399688\n",
              "2019-12-05 09:18:23    -0.139201\n",
              "2019-12-05 09:21:36     0.053492\n",
              "2019-12-05 09:11:36     1.175004"
            ]
          },
          "metadata": {},
          "execution_count": 165
        }
      ]
    },
    {
      "cell_type": "code",
      "source": [
        "x_train[numerical_features].describe().round(4)"
      ],
      "metadata": {
        "colab": {
          "base_uri": "https://localhost:8080/",
          "height": 300
        },
        "id": "5N5LbarwwYGi",
        "outputId": "7747f0b2-e612-46db-a5e4-8db4ef95c33b"
      },
      "execution_count": null,
      "outputs": [
        {
          "output_type": "execute_result",
          "data": {
            "text/html": [
              "<div>\n",
              "<style scoped>\n",
              "    .dataframe tbody tr th:only-of-type {\n",
              "        vertical-align: middle;\n",
              "    }\n",
              "\n",
              "    .dataframe tbody tr th {\n",
              "        vertical-align: top;\n",
              "    }\n",
              "\n",
              "    .dataframe thead th {\n",
              "        text-align: right;\n",
              "    }\n",
              "</style>\n",
              "<table border=\"1\" class=\"dataframe\">\n",
              "  <thead>\n",
              "    <tr style=\"text-align: right;\">\n",
              "      <th></th>\n",
              "      <th>performance</th>\n",
              "    </tr>\n",
              "  </thead>\n",
              "  <tbody>\n",
              "    <tr>\n",
              "      <th>count</th>\n",
              "      <td>5833.0000</td>\n",
              "    </tr>\n",
              "    <tr>\n",
              "      <th>mean</th>\n",
              "      <td>0.0000</td>\n",
              "    </tr>\n",
              "    <tr>\n",
              "      <th>std</th>\n",
              "      <td>1.0001</td>\n",
              "    </tr>\n",
              "    <tr>\n",
              "      <th>min</th>\n",
              "      <td>-2.1563</td>\n",
              "    </tr>\n",
              "    <tr>\n",
              "      <th>25%</th>\n",
              "      <td>-0.7908</td>\n",
              "    </tr>\n",
              "    <tr>\n",
              "      <th>50%</th>\n",
              "      <td>-0.0257</td>\n",
              "    </tr>\n",
              "    <tr>\n",
              "      <th>75%</th>\n",
              "      <td>0.7351</td>\n",
              "    </tr>\n",
              "    <tr>\n",
              "      <th>max</th>\n",
              "      <td>2.2269</td>\n",
              "    </tr>\n",
              "  </tbody>\n",
              "</table>\n",
              "</div>"
            ],
            "text/plain": [
              "       performance\n",
              "count    5833.0000\n",
              "mean        0.0000\n",
              "std         1.0001\n",
              "min        -2.1563\n",
              "25%        -0.7908\n",
              "50%        -0.0257\n",
              "75%         0.7351\n",
              "max         2.2269"
            ]
          },
          "metadata": {},
          "execution_count": 166
        }
      ]
    },
    {
      "cell_type": "markdown",
      "source": [
        "As previously mentioned, the standardization process changes the mean value (mean) to 0 and the standard deviation value to 1"
      ],
      "metadata": {
        "id": "A8zqp2YtV6UC"
      }
    },
    {
      "cell_type": "markdown",
      "source": [
        "# Model Development"
      ],
      "metadata": {
        "id": "9FVGpOudwqZd"
      }
    },
    {
      "cell_type": "markdown",
      "source": [
        "At this stage, we will develop a machine learning model with three algorithms. Then, we will evaluate the performance of each algorithm and determine which algorithm gives the best predictive results. The three algorithms that we will develop include:\n",
        "\n",
        "*   K-Nearest Neighbor\n",
        "*   Random Forest\n",
        "*   Boosting Algorithm"
      ],
      "metadata": {
        "id": "o7XQZpV2WYl9"
      }
    },
    {
      "cell_type": "code",
      "source": [
        "models = pd.DataFrame(index=['train_mse', 'test_mse'], \n",
        "                      columns=['KNN', 'RandomForest', 'Boosting'])"
      ],
      "metadata": {
        "id": "PZNEIE_nwdin"
      },
      "execution_count": null,
      "outputs": []
    },
    {
      "cell_type": "markdown",
      "source": [
        "### Model Development with K-Nearest Neighbor "
      ],
      "metadata": {
        "id": "l_mcp_t1XFGi"
      }
    },
    {
      "cell_type": "markdown",
      "source": [
        "We try with a value of k=10 for the K-Nearest Neighbor model model"
      ],
      "metadata": {
        "id": "8U6ifk8h_cdw"
      }
    },
    {
      "cell_type": "code",
      "source": [
        "from sklearn.neighbors import KNeighborsRegressor\n",
        " \n",
        "knn = KNeighborsRegressor(n_neighbors=10)\n",
        "knn.fit(x_train, y_train)\n",
        "y_pred_knn = knn.predict(x_train)"
      ],
      "metadata": {
        "id": "xoDE_te5ONnd"
      },
      "execution_count": null,
      "outputs": []
    },
    {
      "cell_type": "markdown",
      "source": [
        "### Model Development with Random Forest"
      ],
      "metadata": {
        "id": "xU-7Fp4jBtsI"
      }
    },
    {
      "cell_type": "markdown",
      "source": [
        "We try the Random Forest model using the number of trees=50"
      ],
      "metadata": {
        "id": "QH4g4_dKDbu6"
      }
    },
    {
      "cell_type": "code",
      "source": [
        "# Import library that we need\n",
        "from sklearn.metrics import mean_squared_error\n",
        "from sklearn.ensemble import RandomForestRegressor\n",
        " \n",
        "# create prediction model \n",
        "RF = RandomForestRegressor(n_estimators=50, max_depth=16, random_state=55, n_jobs=-1)\n",
        "RF.fit(x_train, y_train)\n",
        " \n",
        "models.loc['train_mse','RandomForest'] = mean_squared_error(y_pred=RF.predict(x_train), y_true=y_train)"
      ],
      "metadata": {
        "id": "3BiUaAnyO5tJ"
      },
      "execution_count": null,
      "outputs": []
    },
    {
      "cell_type": "markdown",
      "source": [
        "### Model Development with AdaBoost Regressor"
      ],
      "metadata": {
        "id": "CsbYPFPYFfIf"
      }
    },
    {
      "cell_type": "markdown",
      "source": [
        "We try the AdaBoost Regressor model using number of trees=50"
      ],
      "metadata": {
        "id": "k88rV_I6EOrI"
      }
    },
    {
      "cell_type": "code",
      "source": [
        "from sklearn.ensemble import AdaBoostRegressor\n",
        " \n",
        "boosting = AdaBoostRegressor(n_estimators=50, learning_rate=0.05, random_state=55)                             \n",
        "boosting.fit(x_train, y_train)\n",
        "models.loc['train_mse','Boosting'] = mean_squared_error(y_pred=boosting.predict(x_train), y_true=y_train)"
      ],
      "metadata": {
        "id": "CVua4PyRPV5g"
      },
      "execution_count": null,
      "outputs": []
    },
    {
      "cell_type": "markdown",
      "source": [
        "# Model Evaluation"
      ],
      "metadata": {
        "id": "E7QcyVINFmPR"
      }
    },
    {
      "cell_type": "markdown",
      "source": [
        "### Scaling"
      ],
      "metadata": {
        "id": "LbzQq4W1F8PA"
      }
    },
    {
      "cell_type": "markdown",
      "source": [
        "We need to do the process of scaling the test data. This must be done so that the scale between the training data and the test data is the same and we can evaluate."
      ],
      "metadata": {
        "id": "ByUtqJnbGQyo"
      }
    },
    {
      "cell_type": "code",
      "source": [
        "x_test.loc[:, numerical_features] = scaler.transform(x_test[numerical_features])"
      ],
      "metadata": {
        "id": "yzo35mEHPcUR"
      },
      "execution_count": null,
      "outputs": []
    },
    {
      "cell_type": "markdown",
      "source": [
        "### Mean Square Error (MSE)"
      ],
      "metadata": {
        "id": "9rDKV_RsGAGz"
      }
    },
    {
      "cell_type": "code",
      "source": [
        "mse = pd.DataFrame(columns=['train', 'test'], index=['KNN','RF','Boosting'])\n",
        "model_dict = {'KNN': knn, 'RF': RF, 'Boosting': boosting}\n",
        "for name, model in model_dict.items():\n",
        "    mse.loc[name, 'train'] = mean_squared_error(y_true=y_train, y_pred=model.predict(x_train))/1e3 \n",
        "    mse.loc[name, 'test'] = mean_squared_error(y_true=y_test, y_pred=model.predict(x_test))/1e3 \n",
        "mse"
      ],
      "metadata": {
        "colab": {
          "base_uri": "https://localhost:8080/",
          "height": 143
        },
        "id": "BR0roNBpPmEf",
        "outputId": "fe7f1520-2842-4176-e8b7-863ce707acdd"
      },
      "execution_count": null,
      "outputs": [
        {
          "output_type": "execute_result",
          "data": {
            "text/html": [
              "<div>\n",
              "<style scoped>\n",
              "    .dataframe tbody tr th:only-of-type {\n",
              "        vertical-align: middle;\n",
              "    }\n",
              "\n",
              "    .dataframe tbody tr th {\n",
              "        vertical-align: top;\n",
              "    }\n",
              "\n",
              "    .dataframe thead th {\n",
              "        text-align: right;\n",
              "    }\n",
              "</style>\n",
              "<table border=\"1\" class=\"dataframe\">\n",
              "  <thead>\n",
              "    <tr style=\"text-align: right;\">\n",
              "      <th></th>\n",
              "      <th>train</th>\n",
              "      <th>test</th>\n",
              "    </tr>\n",
              "  </thead>\n",
              "  <tbody>\n",
              "    <tr>\n",
              "      <th>KNN</th>\n",
              "      <td>522453</td>\n",
              "      <td>691801</td>\n",
              "    </tr>\n",
              "    <tr>\n",
              "      <th>RF</th>\n",
              "      <td>166605</td>\n",
              "      <td>403427</td>\n",
              "    </tr>\n",
              "    <tr>\n",
              "      <th>Boosting</th>\n",
              "      <td>685799</td>\n",
              "      <td>677374</td>\n",
              "    </tr>\n",
              "  </tbody>\n",
              "</table>\n",
              "</div>"
            ],
            "text/plain": [
              "           train    test\n",
              "KNN       522453  691801\n",
              "RF        166605  403427\n",
              "Boosting  685799  677374"
            ]
          },
          "metadata": {},
          "execution_count": 172
        }
      ]
    },
    {
      "cell_type": "code",
      "source": [
        "fig, ax = plt.subplots()\n",
        "mse.sort_values(by='test', ascending=False).plot(kind='barh', ax=ax, zorder=3)\n",
        "ax.grid(zorder=0)"
      ],
      "metadata": {
        "colab": {
          "base_uri": "https://localhost:8080/",
          "height": 265
        },
        "id": "4d1U8vTzPvhy",
        "outputId": "72f899ec-17b6-4e13-8c11-fadc87d7b40f"
      },
      "execution_count": null,
      "outputs": [
        {
          "output_type": "display_data",
          "data": {
            "image/png": "[encoded data removed]",
            "text/plain": [
              "<Figure size 432x288 with 1 Axes>"
            ]
          },
          "metadata": {
            "needs_background": "light"
          }
        }
      ]
    },
    {
      "cell_type": "markdown",
      "source": [
        "From the picture above, it can be seen that the Random Forest model gives the smallest error value. We will choose this model as the best model to predict the throughput value"
      ],
      "metadata": {
        "id": "p-24NhaOGiYf"
      }
    },
    {
      "cell_type": "markdown",
      "source": [
        "### Testing with test Data"
      ],
      "metadata": {
        "id": "kP3fNT2UGzDU"
      }
    },
    {
      "cell_type": "markdown",
      "source": [
        "To test it, let's make a prediction using some values from the test data."
      ],
      "metadata": {
        "id": "_0hx6dO2G6QT"
      }
    },
    {
      "cell_type": "code",
      "source": [
        "prediksi = x_test.iloc[:10].copy()\n",
        "pred_dict = {'y_true':y_test[:10]}\n",
        "for name, model in model_dict.items():\n",
        "    pred_dict['prediksi_'+name] = model.predict(prediksi).round(1)\n",
        " \n",
        "pd.DataFrame(pred_dict)"
      ],
      "metadata": {
        "colab": {
          "base_uri": "https://localhost:8080/",
          "height": 394
        },
        "id": "uegqxbH6P7Dc",
        "outputId": "802498b9-bc49-4c05-d5e2-9f77ab5e0b2e"
      },
      "execution_count": null,
      "outputs": [
        {
          "output_type": "execute_result",
          "data": {
            "text/html": [
              "<div>\n",
              "<style scoped>\n",
              "    .dataframe tbody tr th:only-of-type {\n",
              "        vertical-align: middle;\n",
              "    }\n",
              "\n",
              "    .dataframe tbody tr th {\n",
              "        vertical-align: top;\n",
              "    }\n",
              "\n",
              "    .dataframe thead th {\n",
              "        text-align: right;\n",
              "    }\n",
              "</style>\n",
              "<table border=\"1\" class=\"dataframe\">\n",
              "  <thead>\n",
              "    <tr style=\"text-align: right;\">\n",
              "      <th></th>\n",
              "      <th>y_true</th>\n",
              "      <th>prediksi_KNN</th>\n",
              "      <th>prediksi_RF</th>\n",
              "      <th>prediksi_Boosting</th>\n",
              "    </tr>\n",
              "    <tr>\n",
              "      <th>Timestamp</th>\n",
              "      <th></th>\n",
              "      <th></th>\n",
              "      <th></th>\n",
              "      <th></th>\n",
              "    </tr>\n",
              "  </thead>\n",
              "  <tbody>\n",
              "    <tr>\n",
              "      <th>2019-12-05 09:08:22</th>\n",
              "      <td>24937</td>\n",
              "      <td>53569.2</td>\n",
              "      <td>51743.4</td>\n",
              "      <td>43446.9</td>\n",
              "    </tr>\n",
              "    <tr>\n",
              "      <th>2019-12-05 09:40:55</th>\n",
              "      <td>40</td>\n",
              "      <td>38460.3</td>\n",
              "      <td>35119.3</td>\n",
              "      <td>39566.1</td>\n",
              "    </tr>\n",
              "    <tr>\n",
              "      <th>2019-12-05 09:13:52</th>\n",
              "      <td>37283</td>\n",
              "      <td>27232.4</td>\n",
              "      <td>30450.3</td>\n",
              "      <td>24606.9</td>\n",
              "    </tr>\n",
              "    <tr>\n",
              "      <th>2019-12-05 09:28:12</th>\n",
              "      <td>69514</td>\n",
              "      <td>34474.6</td>\n",
              "      <td>35926.1</td>\n",
              "      <td>37850.4</td>\n",
              "    </tr>\n",
              "    <tr>\n",
              "      <th>2019-12-05 09:39:56</th>\n",
              "      <td>32351</td>\n",
              "      <td>33208.5</td>\n",
              "      <td>57892.6</td>\n",
              "      <td>50245.3</td>\n",
              "    </tr>\n",
              "    <tr>\n",
              "      <th>2019-12-05 09:50:48</th>\n",
              "      <td>28033</td>\n",
              "      <td>39489.8</td>\n",
              "      <td>31632.3</td>\n",
              "      <td>41487.5</td>\n",
              "    </tr>\n",
              "    <tr>\n",
              "      <th>2019-12-05 09:09:47</th>\n",
              "      <td>1</td>\n",
              "      <td>10006.6</td>\n",
              "      <td>3121.6</td>\n",
              "      <td>9492.6</td>\n",
              "    </tr>\n",
              "    <tr>\n",
              "      <th>2019-12-05 09:03:02</th>\n",
              "      <td>64071</td>\n",
              "      <td>30991.8</td>\n",
              "      <td>56848.5</td>\n",
              "      <td>51295.3</td>\n",
              "    </tr>\n",
              "    <tr>\n",
              "      <th>2019-12-05 09:21:19</th>\n",
              "      <td>23910</td>\n",
              "      <td>21146.2</td>\n",
              "      <td>23430.0</td>\n",
              "      <td>32651.4</td>\n",
              "    </tr>\n",
              "    <tr>\n",
              "      <th>2019-12-05 09:23:56</th>\n",
              "      <td>17934</td>\n",
              "      <td>11368.7</td>\n",
              "      <td>19948.1</td>\n",
              "      <td>25048.5</td>\n",
              "    </tr>\n",
              "  </tbody>\n",
              "</table>\n",
              "</div>"
            ],
            "text/plain": [
              "                     y_true  prediksi_KNN  prediksi_RF  prediksi_Boosting\n",
              "Timestamp                                                                \n",
              "2019-12-05 09:08:22   24937       53569.2      51743.4            43446.9\n",
              "2019-12-05 09:40:55      40       38460.3      35119.3            39566.1\n",
              "2019-12-05 09:13:52   37283       27232.4      30450.3            24606.9\n",
              "2019-12-05 09:28:12   69514       34474.6      35926.1            37850.4\n",
              "2019-12-05 09:39:56   32351       33208.5      57892.6            50245.3\n",
              "2019-12-05 09:50:48   28033       39489.8      31632.3            41487.5\n",
              "2019-12-05 09:09:47       1       10006.6       3121.6             9492.6\n",
              "2019-12-05 09:03:02   64071       30991.8      56848.5            51295.3\n",
              "2019-12-05 09:21:19   23910       21146.2      23430.0            32651.4\n",
              "2019-12-05 09:23:56   17934       11368.7      19948.1            25048.5"
            ]
          },
          "metadata": {},
          "execution_count": 174
        }
      ]
    },
    {
      "cell_type": "markdown",
      "source": [
        "It can be seen that the prediction with Random Forest (RF) gives the closest result. We can also test the prediction results on other data by changing the index on X_test."
      ],
      "metadata": {
        "id": "xu9_xUaeHO0q"
      }
    },
    {
      "cell_type": "code",
      "source": [
        "hasil = pd.DataFrame(pred_dict)\n",
        "hasil['y_true']"
      ],
      "metadata": {
        "colab": {
          "base_uri": "https://localhost:8080/"
        },
        "id": "XBns1BRFula8",
        "outputId": "7a725f25-55f4-4138-ddba-a2c79cafb4d5"
      },
      "execution_count": null,
      "outputs": [
        {
          "output_type": "execute_result",
          "data": {
            "text/plain": [
              "Timestamp\n",
              "2019-12-05 09:08:22    24937\n",
              "2019-12-05 09:40:55       40\n",
              "2019-12-05 09:13:52    37283\n",
              "2019-12-05 09:28:12    69514\n",
              "2019-12-05 09:39:56    32351\n",
              "2019-12-05 09:50:48    28033\n",
              "2019-12-05 09:09:47        1\n",
              "2019-12-05 09:03:02    64071\n",
              "2019-12-05 09:21:19    23910\n",
              "2019-12-05 09:23:56    17934\n",
              "Name: y_true, dtype: int64"
            ]
          },
          "metadata": {},
          "execution_count": 175
        }
      ]
    },
    {
      "cell_type": "code",
      "source": [
        "hasil=hasil.sort_values(by='Timestamp')"
      ],
      "metadata": {
        "id": "AfbtEEBU9o8r"
      },
      "execution_count": null,
      "outputs": []
    },
    {
      "cell_type": "code",
      "source": [
        "hasil"
      ],
      "metadata": {
        "colab": {
          "base_uri": "https://localhost:8080/",
          "height": 394
        },
        "id": "1orefJhzNYr8",
        "outputId": "63340c2c-29e9-4411-db3a-820d777874b5"
      },
      "execution_count": null,
      "outputs": [
        {
          "output_type": "execute_result",
          "data": {
            "text/html": [
              "<div>\n",
              "<style scoped>\n",
              "    .dataframe tbody tr th:only-of-type {\n",
              "        vertical-align: middle;\n",
              "    }\n",
              "\n",
              "    .dataframe tbody tr th {\n",
              "        vertical-align: top;\n",
              "    }\n",
              "\n",
              "    .dataframe thead th {\n",
              "        text-align: right;\n",
              "    }\n",
              "</style>\n",
              "<table border=\"1\" class=\"dataframe\">\n",
              "  <thead>\n",
              "    <tr style=\"text-align: right;\">\n",
              "      <th></th>\n",
              "      <th>y_true</th>\n",
              "      <th>prediksi_KNN</th>\n",
              "      <th>prediksi_RF</th>\n",
              "      <th>prediksi_Boosting</th>\n",
              "    </tr>\n",
              "    <tr>\n",
              "      <th>Timestamp</th>\n",
              "      <th></th>\n",
              "      <th></th>\n",
              "      <th></th>\n",
              "      <th></th>\n",
              "    </tr>\n",
              "  </thead>\n",
              "  <tbody>\n",
              "    <tr>\n",
              "      <th>2019-12-05 09:03:02</th>\n",
              "      <td>64071</td>\n",
              "      <td>30991.8</td>\n",
              "      <td>56848.5</td>\n",
              "      <td>51295.3</td>\n",
              "    </tr>\n",
              "    <tr>\n",
              "      <th>2019-12-05 09:08:22</th>\n",
              "      <td>24937</td>\n",
              "      <td>53569.2</td>\n",
              "      <td>51743.4</td>\n",
              "      <td>43446.9</td>\n",
              "    </tr>\n",
              "    <tr>\n",
              "      <th>2019-12-05 09:09:47</th>\n",
              "      <td>1</td>\n",
              "      <td>10006.6</td>\n",
              "      <td>3121.6</td>\n",
              "      <td>9492.6</td>\n",
              "    </tr>\n",
              "    <tr>\n",
              "      <th>2019-12-05 09:13:52</th>\n",
              "      <td>37283</td>\n",
              "      <td>27232.4</td>\n",
              "      <td>30450.3</td>\n",
              "      <td>24606.9</td>\n",
              "    </tr>\n",
              "    <tr>\n",
              "      <th>2019-12-05 09:21:19</th>\n",
              "      <td>23910</td>\n",
              "      <td>21146.2</td>\n",
              "      <td>23430.0</td>\n",
              "      <td>32651.4</td>\n",
              "    </tr>\n",
              "    <tr>\n",
              "      <th>2019-12-05 09:23:56</th>\n",
              "      <td>17934</td>\n",
              "      <td>11368.7</td>\n",
              "      <td>19948.1</td>\n",
              "      <td>25048.5</td>\n",
              "    </tr>\n",
              "    <tr>\n",
              "      <th>2019-12-05 09:28:12</th>\n",
              "      <td>69514</td>\n",
              "      <td>34474.6</td>\n",
              "      <td>35926.1</td>\n",
              "      <td>37850.4</td>\n",
              "    </tr>\n",
              "    <tr>\n",
              "      <th>2019-12-05 09:39:56</th>\n",
              "      <td>32351</td>\n",
              "      <td>33208.5</td>\n",
              "      <td>57892.6</td>\n",
              "      <td>50245.3</td>\n",
              "    </tr>\n",
              "    <tr>\n",
              "      <th>2019-12-05 09:40:55</th>\n",
              "      <td>40</td>\n",
              "      <td>38460.3</td>\n",
              "      <td>35119.3</td>\n",
              "      <td>39566.1</td>\n",
              "    </tr>\n",
              "    <tr>\n",
              "      <th>2019-12-05 09:50:48</th>\n",
              "      <td>28033</td>\n",
              "      <td>39489.8</td>\n",
              "      <td>31632.3</td>\n",
              "      <td>41487.5</td>\n",
              "    </tr>\n",
              "  </tbody>\n",
              "</table>\n",
              "</div>"
            ],
            "text/plain": [
              "                     y_true  prediksi_KNN  prediksi_RF  prediksi_Boosting\n",
              "Timestamp                                                                \n",
              "2019-12-05 09:03:02   64071       30991.8      56848.5            51295.3\n",
              "2019-12-05 09:08:22   24937       53569.2      51743.4            43446.9\n",
              "2019-12-05 09:09:47       1       10006.6       3121.6             9492.6\n",
              "2019-12-05 09:13:52   37283       27232.4      30450.3            24606.9\n",
              "2019-12-05 09:21:19   23910       21146.2      23430.0            32651.4\n",
              "2019-12-05 09:23:56   17934       11368.7      19948.1            25048.5\n",
              "2019-12-05 09:28:12   69514       34474.6      35926.1            37850.4\n",
              "2019-12-05 09:39:56   32351       33208.5      57892.6            50245.3\n",
              "2019-12-05 09:40:55      40       38460.3      35119.3            39566.1\n",
              "2019-12-05 09:50:48   28033       39489.8      31632.3            41487.5"
            ]
          },
          "metadata": {},
          "execution_count": 177
        }
      ]
    },
    {
      "cell_type": "code",
      "source": [
        "from sklearn import metrics\n",
        "from sklearn.model_selection import cross_val_score\n",
        "\n",
        "def cross_val(model):\n",
        "    pred = cross_val_score(model, x, y, cv=10)\n",
        "    return pred.mean()\n",
        "\n",
        "def print_evaluate(true, predicted):  \n",
        "    mae = metrics.mean_absolute_error(true, predicted)\n",
        "    mse = metrics.mean_squared_error(true, predicted)\n",
        "    rmse = np.sqrt(metrics.mean_squared_error(true, predicted))\n",
        "    r2_square = metrics.r2_score(true, predicted)\n",
        "    print('MAE:', mae)\n",
        "    print('MSE:', mse)\n",
        "    print('RMSE:', rmse)\n",
        "    print('R2 Square', r2_square)\n",
        "    \n",
        "def evaluate(true, predicted):\n",
        "    mae = metrics.mean_absolute_error(true, predicted)\n",
        "    mse = metrics.mean_squared_error(true, predicted)\n",
        "    rmse = np.sqrt(metrics.mean_squared_error(true, predicted))\n",
        "    r2_square = metrics.r2_score(true, predicted)\n",
        "    return mae, mse, rmse, r2_square"
      ],
      "metadata": {
        "id": "3w5ULJB8O7WF"
      },
      "execution_count": null,
      "outputs": []
    },
    {
      "cell_type": "markdown",
      "source": [
        "# Prediction vs Actual Data Visualization"
      ],
      "metadata": {
        "id": "cqdVgYsAHgaR"
      }
    },
    {
      "cell_type": "code",
      "source": [
        "import matplotlib.pyplot as plt\n",
        "import numpy as np"
      ],
      "metadata": {
        "id": "mVKA5xYRu_KH"
      },
      "execution_count": null,
      "outputs": []
    },
    {
      "cell_type": "markdown",
      "source": [
        "### KNN Model Prediction with k=10"
      ],
      "metadata": {
        "id": "xH8G0FFQHxM8"
      }
    },
    {
      "cell_type": "code",
      "source": [
        "fig, ax = plt.subplots(figsize=(12, 6))\n",
        "ax.set_xlabel('Time')\n",
        "ax.set_ylabel('Throughput')\n",
        "ax.set_title('Throughput Prediction vs Actual')\n",
        "ax.grid(True)\n",
        "\n",
        "# Plotting on the first y-axis\n",
        "ax.plot(hasil['y_true'], color='tab:orange', label='Actual')\n",
        "ax.plot(hasil['prediksi_KNN'], color='tab:cyan', label='Prediction')\n",
        "ax.legend(loc='upper right');"
      ],
      "metadata": {
        "colab": {
          "base_uri": "https://localhost:8080/",
          "height": 404
        },
        "id": "wr-DZGVZv52m",
        "outputId": "1359982e-9435-419b-f17e-bcd92cc5c2aa"
      },
      "execution_count": null,
      "outputs": [
        {
          "output_type": "display_data",
          "data": {
            "image/png": "[encoded data removed]",
            "text/plain": [
              "<Figure size 864x432 with 1 Axes>"
            ]
          },
          "metadata": {
            "needs_background": "light"
          }
        }
      ]
    },
    {
      "cell_type": "markdown",
      "source": [
        "### Random Forest Model Prediction with number of trees=50"
      ],
      "metadata": {
        "id": "-dyr-sxrLXCV"
      }
    },
    {
      "cell_type": "code",
      "source": [
        "fig, ax = plt.subplots(figsize=(12, 6))\n",
        "ax.set_xlabel('Time')\n",
        "ax.set_ylabel('Throughput')\n",
        "ax.set_title('Throughput Prediction vs Actual')\n",
        "ax.grid(True)\n",
        "\n",
        "# Plotting on the first y-axis\n",
        "ax.plot(hasil['y_true'], color='tab:orange', label='Actual')\n",
        "ax.plot(hasil['prediksi_RF'], color='tab:cyan', label='Prediction')\n",
        "ax.legend(loc='upper right');"
      ],
      "metadata": {
        "colab": {
          "base_uri": "https://localhost:8080/",
          "height": 404
        },
        "id": "bKo7AYfzw0dA",
        "outputId": "4ec249c0-49ae-4beb-b77e-a047dae4ccce"
      },
      "execution_count": null,
      "outputs": [
        {
          "output_type": "display_data",
          "data": {
            "image/png": "[encoded data removed]",
            "text/plain": [
              "<Figure size 864x432 with 1 Axes>"
            ]
          },
          "metadata": {
            "needs_background": "light"
          }
        }
      ]
    },
    {
      "cell_type": "markdown",
      "source": [
        "### AdaBoost Regressor Model Prediction with number of trees=50"
      ],
      "metadata": {
        "id": "wfN8X8IJN8wv"
      }
    },
    {
      "cell_type": "code",
      "source": [
        "fig, ax = plt.subplots(figsize=(12, 6))\n",
        "ax.set_xlabel('Time')\n",
        "ax.set_ylabel('Throughput')\n",
        "ax.set_title('Throughput Prediction vs Actual')\n",
        "ax.grid(True)\n",
        "\n",
        "# Plotting on the first y-axis\n",
        "ax.plot(hasil['y_true'], color='tab:orange', label='Actual')\n",
        "ax.plot(hasil['prediksi_Boosting'], color='tab:cyan', label='Prediction')\n",
        "ax.legend(loc='upper right');"
      ],
      "metadata": {
        "colab": {
          "base_uri": "https://localhost:8080/",
          "height": 404
        },
        "id": "1c9wmT_J8SpT",
        "outputId": "a722c15b-3441-44d7-e779-67cde36d74e8"
      },
      "execution_count": null,
      "outputs": [
        {
          "output_type": "display_data",
          "data": {
            "image/png": "[encoded data removed]",
            "text/plain": [
              "<Figure size 864x432 with 1 Axes>"
            ]
          },
          "metadata": {
            "needs_background": "light"
          }
        }
      ]
    },
    {
      "cell_type": "code",
      "source": [
        ""
      ],
      "metadata": {
        "id": "AubPEm-J-nK_"
      },
      "execution_count": null,
      "outputs": []
    }
  ]
}